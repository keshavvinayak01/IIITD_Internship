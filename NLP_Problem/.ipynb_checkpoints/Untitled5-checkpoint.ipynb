{
 "cells": [
  {
   "cell_type": "code",
   "execution_count": 1,
   "metadata": {
    "colab": {},
    "colab_type": "code",
    "id": "2XUu5dhlRj1f"
   },
   "outputs": [],
   "source": [
    "import numpy as np\n",
    "import pandas as pd\n",
    "import torch\n",
    "import torch.nn as nn\n",
    "from torch.autograd import Variable\n",
    "import torch.nn.functional as f\n",
    "import spacy\n",
    "import sklearn as sl\n",
    "import re\n",
    "import string"
   ]
  },
  {
   "cell_type": "code",
   "execution_count": 2,
   "metadata": {
    "colab": {
     "base_uri": "https://localhost:8080/",
     "height": 167
    },
    "colab_type": "code",
    "executionInfo": {
     "elapsed": 1824,
     "status": "error",
     "timestamp": 1554745232890,
     "user": {
      "displayName": "Keshav Vinayak",
      "photoUrl": "",
      "userId": "18343022477272805862"
     },
     "user_tz": -330
    },
    "id": "pXZlSYVlTBb4",
    "outputId": "4e15944c-fde4-41bd-f6f9-03dfba26fd2b"
   },
   "outputs": [],
   "source": [
    "# Import the prebuilt word embeddings, upon which the incoming dataset will be convolved.\n",
    "word_embeddings = spacy.load('en')"
   ]
  },
  {
   "cell_type": "code",
   "execution_count": 3,
   "metadata": {
    "colab": {},
    "colab_type": "code",
    "id": "fsa8S6IrTi4d"
   },
   "outputs": [],
   "source": [
    "def sequence_to_data(seq, max_len=None):\n",
    "    ####Converting sequence to data basically convertig words to vectors\n",
    "    data = [word_embeddings(ix).vector for ix in seq.split()]\n",
    "    if max_len == None:\n",
    "        max_len = len(data)\n",
    "    data_mat = np.zeros((1, max_len, 96))\n",
    "    for ix in range(min(max_len, len(data))):\n",
    "        data_mat[:, ix, :] = np.expand_dims(data[ix],axis=0)\n",
    "\n",
    "    return data_mat\n",
    "\n",
    "def seq_data_matrix(seq_data, max_len=None):  ####Now Concating different sentences and converting to a matrix\n",
    "    data = np.concatenate([sequence_to_data(ix, max_len) for ix in seq_data], axis=0)\n",
    "    return data"
   ]
  },
  {
   "cell_type": "code",
   "execution_count": 6,
   "metadata": {
    "colab": {},
    "colab_type": "code",
    "id": "VTWz7GCyTlAd"
   },
   "outputs": [],
   "source": [
    "df = pd.read_csv(\"datasets/V1.4_Training.csv\")#loading dataset"
   ]
  },
  {
   "cell_type": "code",
   "execution_count": 7,
   "metadata": {
    "colab": {
     "base_uri": "https://localhost:8080/",
     "height": 1986
    },
    "colab_type": "code",
    "executionInfo": {
     "elapsed": 2283,
     "status": "ok",
     "timestamp": 1554733030772,
     "user": {
      "displayName": "Aditya k",
      "photoUrl": "https://lh6.googleusercontent.com/-ruMdTRw9XAE/AAAAAAAAAAI/AAAAAAAAARU/le-Q4DlvqZA/s64/photo.jpg",
      "userId": "13090405165683797787"
     },
     "user_tz": -330
    },
    "id": "wf35VKbDTnXV",
    "outputId": "87e2dccb-acd5-438a-eff5-c830e70d2222"
   },
   "outputs": [
    {
     "data": {
      "text/html": [
       "<div>\n",
       "<style scoped>\n",
       "    .dataframe tbody tr th:only-of-type {\n",
       "        vertical-align: middle;\n",
       "    }\n",
       "\n",
       "    .dataframe tbody tr th {\n",
       "        vertical-align: top;\n",
       "    }\n",
       "\n",
       "    .dataframe thead th {\n",
       "        text-align: right;\n",
       "    }\n",
       "</style>\n",
       "<table border=\"1\" class=\"dataframe\">\n",
       "  <thead>\n",
       "    <tr style=\"text-align: right;\">\n",
       "      <th></th>\n",
       "      <th>663_3</th>\n",
       "      <th>\"Please enable removing language code from the Dev Center \"language history\" For example if you ever selected \"ru\" and \"ru-ru\" laguages and you published this xap to the Store then it causes Tile localization to show the en-us(default) tile localization which is bad.\"</th>\n",
       "      <th>1</th>\n",
       "    </tr>\n",
       "  </thead>\n",
       "  <tbody>\n",
       "    <tr>\n",
       "      <th>0</th>\n",
       "      <td>663_4</td>\n",
       "      <td>\"Note: in your .csproj file, there is a Suppor...</td>\n",
       "      <td>0</td>\n",
       "    </tr>\n",
       "    <tr>\n",
       "      <th>1</th>\n",
       "      <td>664_1</td>\n",
       "      <td>\"Wich means the new version not fully replaced...</td>\n",
       "      <td>0</td>\n",
       "    </tr>\n",
       "    <tr>\n",
       "      <th>2</th>\n",
       "      <td>664_2</td>\n",
       "      <td>\"Some of my users will still receive the old x...</td>\n",
       "      <td>0</td>\n",
       "    </tr>\n",
       "    <tr>\n",
       "      <th>3</th>\n",
       "      <td>664_3</td>\n",
       "      <td>\"The store randomly gives the old xap or the n...</td>\n",
       "      <td>0</td>\n",
       "    </tr>\n",
       "    <tr>\n",
       "      <th>4</th>\n",
       "      <td>664_4</td>\n",
       "      <td>\"My app has a WP7 version and a WP8 version XA...</td>\n",
       "      <td>0</td>\n",
       "    </tr>\n",
       "    <tr>\n",
       "      <th>5</th>\n",
       "      <td>664_5</td>\n",
       "      <td>\"The wp7 xap works only on WP7 and the wp8 xap...</td>\n",
       "      <td>0</td>\n",
       "    </tr>\n",
       "    <tr>\n",
       "      <th>6</th>\n",
       "      <td>665_1</td>\n",
       "      <td>\"Sometimes the Store gives the wrong wp7 xap v...</td>\n",
       "      <td>0</td>\n",
       "    </tr>\n",
       "    <tr>\n",
       "      <th>7</th>\n",
       "      <td>665_2</td>\n",
       "      <td>\"It should be an option to remove the \"ru\" lan...</td>\n",
       "      <td>1</td>\n",
       "    </tr>\n",
       "    <tr>\n",
       "      <th>8</th>\n",
       "      <td>665_3</td>\n",
       "      <td>\"Currently if you ever mistakenly selected a \"...</td>\n",
       "      <td>0</td>\n",
       "    </tr>\n",
       "    <tr>\n",
       "      <th>9</th>\n",
       "      <td>665_5</td>\n",
       "      <td>\"): the store will randomly deliver the old/wr...</td>\n",
       "      <td>0</td>\n",
       "    </tr>\n",
       "    <tr>\n",
       "      <th>10</th>\n",
       "      <td>665_6</td>\n",
       "      <td>\"I write a lot support ticket on this, but no ...</td>\n",
       "      <td>0</td>\n",
       "    </tr>\n",
       "    <tr>\n",
       "      <th>11</th>\n",
       "      <td>665_7</td>\n",
       "      <td>\"The engineering team can solve this issue if ...</td>\n",
       "      <td>0</td>\n",
       "    </tr>\n",
       "    <tr>\n",
       "      <th>12</th>\n",
       "      <td>665_8</td>\n",
       "      <td>\"Provide a workaround for removing the \"ru\" la...</td>\n",
       "      <td>1</td>\n",
       "    </tr>\n",
       "    <tr>\n",
       "      <th>13</th>\n",
       "      <td>665_9</td>\n",
       "      <td>\"Or add and implement an AppResLib.dll.xxxx.mu...</td>\n",
       "      <td>1</td>\n",
       "    </tr>\n",
       "    <tr>\n",
       "      <th>14</th>\n",
       "      <td>665_10</td>\n",
       "      <td>\"Wich means the new version not fully replaced...</td>\n",
       "      <td>0</td>\n",
       "    </tr>\n",
       "    <tr>\n",
       "      <th>15</th>\n",
       "      <td>666_1</td>\n",
       "      <td>\"When I driving my car and need to make call a...</td>\n",
       "      <td>0</td>\n",
       "    </tr>\n",
       "    <tr>\n",
       "      <th>16</th>\n",
       "      <td>667_1</td>\n",
       "      <td>\"But if I press power button and unlock device...</td>\n",
       "      <td>0</td>\n",
       "    </tr>\n",
       "    <tr>\n",
       "      <th>17</th>\n",
       "      <td>667_2</td>\n",
       "      <td>\"This in driving mode activated.\"</td>\n",
       "      <td>0</td>\n",
       "    </tr>\n",
       "    <tr>\n",
       "      <th>18</th>\n",
       "      <td>667_3</td>\n",
       "      <td>\"Also in italian translation, after reading sm...</td>\n",
       "      <td>0</td>\n",
       "    </tr>\n",
       "    <tr>\n",
       "      <th>19</th>\n",
       "      <td>667_4</td>\n",
       "      <td>\"If I say \"fatto\" vocal command unrecognized!\"</td>\n",
       "      <td>0</td>\n",
       "    </tr>\n",
       "    <tr>\n",
       "      <th>20</th>\n",
       "      <td>667_5</td>\n",
       "      <td>\"Other little bugs: with my lumia 820 before f...</td>\n",
       "      <td>0</td>\n",
       "    </tr>\n",
       "    <tr>\n",
       "      <th>21</th>\n",
       "      <td>667_6</td>\n",
       "      <td>\"Don't recognize commands.\"</td>\n",
       "      <td>0</td>\n",
       "    </tr>\n",
       "    <tr>\n",
       "      <th>22</th>\n",
       "      <td>667_7</td>\n",
       "      <td>\"But my old wp7 work fine using same bt sony c...</td>\n",
       "      <td>0</td>\n",
       "    </tr>\n",
       "    <tr>\n",
       "      <th>23</th>\n",
       "      <td>667_8</td>\n",
       "      <td>\"Other little bugs: with my lumia 820 before f...</td>\n",
       "      <td>0</td>\n",
       "    </tr>\n",
       "    <tr>\n",
       "      <th>24</th>\n",
       "      <td>667_9</td>\n",
       "      <td>\"Outlook color schemes.\"</td>\n",
       "      <td>0</td>\n",
       "    </tr>\n",
       "    <tr>\n",
       "      <th>25</th>\n",
       "      <td>667_10</td>\n",
       "      <td>\"Settings, current live tile Size , and More\"</td>\n",
       "      <td>0</td>\n",
       "    </tr>\n",
       "    <tr>\n",
       "      <th>26</th>\n",
       "      <td>667_11</td>\n",
       "      <td>\"Open the network + settings and tap on call s...</td>\n",
       "      <td>0</td>\n",
       "    </tr>\n",
       "    <tr>\n",
       "      <th>27</th>\n",
       "      <td>667_12</td>\n",
       "      <td>\"Hit the power button to go to sleep mode.\"</td>\n",
       "      <td>0</td>\n",
       "    </tr>\n",
       "    <tr>\n",
       "      <th>28</th>\n",
       "      <td>667_13</td>\n",
       "      <td>\"Wait for 15-20 minutes and switch on the mobi...</td>\n",
       "      <td>0</td>\n",
       "    </tr>\n",
       "    <tr>\n",
       "      <th>29</th>\n",
       "      <td>667_14</td>\n",
       "      <td>\"The window will be blank with only heading on...</td>\n",
       "      <td>0</td>\n",
       "    </tr>\n",
       "    <tr>\n",
       "      <th>...</th>\n",
       "      <td>...</td>\n",
       "      <td>...</td>\n",
       "      <td>...</td>\n",
       "    </tr>\n",
       "    <tr>\n",
       "      <th>8469</th>\n",
       "      <td>2784</td>\n",
       "      <td>Each number represents the shadow in each side.</td>\n",
       "      <td>0</td>\n",
       "    </tr>\n",
       "    <tr>\n",
       "      <th>8470</th>\n",
       "      <td>2788</td>\n",
       "      <td>In 99 percent of cases I receive MeasureOverri...</td>\n",
       "      <td>0</td>\n",
       "    </tr>\n",
       "    <tr>\n",
       "      <th>8471</th>\n",
       "      <td>2789</td>\n",
       "      <td>Which means that something went wrong.</td>\n",
       "      <td>0</td>\n",
       "    </tr>\n",
       "    <tr>\n",
       "      <th>8472</th>\n",
       "      <td>2790</td>\n",
       "      <td>No stacktrace and guess yourself is what WinRT...</td>\n",
       "      <td>0</td>\n",
       "    </tr>\n",
       "    <tr>\n",
       "      <th>8473</th>\n",
       "      <td>2793</td>\n",
       "      <td>I am using RichTextBox for editing the rtf text.</td>\n",
       "      <td>0</td>\n",
       "    </tr>\n",
       "    <tr>\n",
       "      <th>8474</th>\n",
       "      <td>2794</td>\n",
       "      <td>Initially if I have rtf text in first line and...</td>\n",
       "      <td>0</td>\n",
       "    </tr>\n",
       "    <tr>\n",
       "      <th>8475</th>\n",
       "      <td>2795</td>\n",
       "      <td>If the device is connected to a network speech...</td>\n",
       "      <td>0</td>\n",
       "    </tr>\n",
       "    <tr>\n",
       "      <th>8476</th>\n",
       "      <td>2798</td>\n",
       "      <td>Even the official Microsoft UWP sample accuses...</td>\n",
       "      <td>0</td>\n",
       "    </tr>\n",
       "    <tr>\n",
       "      <th>8477</th>\n",
       "      <td>2801</td>\n",
       "      <td>For large teams just having one team member be...</td>\n",
       "      <td>0</td>\n",
       "    </tr>\n",
       "    <tr>\n",
       "      <th>8478</th>\n",
       "      <td>2802</td>\n",
       "      <td>The API is fine but where I'm running into tro...</td>\n",
       "      <td>0</td>\n",
       "    </tr>\n",
       "    <tr>\n",
       "      <th>8479</th>\n",
       "      <td>2803</td>\n",
       "      <td>(Event registration order doesn't seem to make...</td>\n",
       "      <td>0</td>\n",
       "    </tr>\n",
       "    <tr>\n",
       "      <th>8480</th>\n",
       "      <td>2804</td>\n",
       "      <td>This makes for problems with things like:</td>\n",
       "      <td>0</td>\n",
       "    </tr>\n",
       "    <tr>\n",
       "      <th>8481</th>\n",
       "      <td>2807</td>\n",
       "      <td>(The SplitView captures the first BackRequeste...</td>\n",
       "      <td>0</td>\n",
       "    </tr>\n",
       "    <tr>\n",
       "      <th>8482</th>\n",
       "      <td>2809</td>\n",
       "      <td>A Flyout with custom picker UI that uses BackR...</td>\n",
       "      <td>0</td>\n",
       "    </tr>\n",
       "    <tr>\n",
       "      <th>8483</th>\n",
       "      <td>2811</td>\n",
       "      <td>I'm a developer trying to make a Discord app f...</td>\n",
       "      <td>0</td>\n",
       "    </tr>\n",
       "    <tr>\n",
       "      <th>8484</th>\n",
       "      <td>2812</td>\n",
       "      <td>It is a significant limitation to not have an ...</td>\n",
       "      <td>0</td>\n",
       "    </tr>\n",
       "    <tr>\n",
       "      <th>8485</th>\n",
       "      <td>2814</td>\n",
       "      <td>I've tried to use the Microsoft.ConnectedDevic...</td>\n",
       "      <td>0</td>\n",
       "    </tr>\n",
       "    <tr>\n",
       "      <th>8486</th>\n",
       "      <td>2816</td>\n",
       "      <td>1. a type of Horizontal one row ListView/GridV...</td>\n",
       "      <td>0</td>\n",
       "    </tr>\n",
       "    <tr>\n",
       "      <th>8487</th>\n",
       "      <td>2818</td>\n",
       "      <td>Only Horizontal Scrolling available because it...</td>\n",
       "      <td>0</td>\n",
       "    </tr>\n",
       "    <tr>\n",
       "      <th>8488</th>\n",
       "      <td>2822</td>\n",
       "      <td>When the user will press button for next items...</td>\n",
       "      <td>0</td>\n",
       "    </tr>\n",
       "    <tr>\n",
       "      <th>8489</th>\n",
       "      <td>2824</td>\n",
       "      <td>Example : Best example is the youtube homepage...</td>\n",
       "      <td>0</td>\n",
       "    </tr>\n",
       "    <tr>\n",
       "      <th>8490</th>\n",
       "      <td>2831</td>\n",
       "      <td>Scrolling/Navigation Buttons on right side nex...</td>\n",
       "      <td>0</td>\n",
       "    </tr>\n",
       "    <tr>\n",
       "      <th>8491</th>\n",
       "      <td>2832</td>\n",
       "      <td>Next/Previous Behaviour : the available screen...</td>\n",
       "      <td>0</td>\n",
       "    </tr>\n",
       "    <tr>\n",
       "      <th>8492</th>\n",
       "      <td>2836</td>\n",
       "      <td>I haven't found any possible way to do that so...</td>\n",
       "      <td>0</td>\n",
       "    </tr>\n",
       "    <tr>\n",
       "      <th>8493</th>\n",
       "      <td>2838</td>\n",
       "      <td>The SerialDevice implementation appears to be ...</td>\n",
       "      <td>0</td>\n",
       "    </tr>\n",
       "    <tr>\n",
       "      <th>8494</th>\n",
       "      <td>2839</td>\n",
       "      <td>The following will reliably throw some flavor ...</td>\n",
       "      <td>0</td>\n",
       "    </tr>\n",
       "    <tr>\n",
       "      <th>8495</th>\n",
       "      <td>2840</td>\n",
       "      <td>This will reliably result in a BSOD if zero by...</td>\n",
       "      <td>0</td>\n",
       "    </tr>\n",
       "    <tr>\n",
       "      <th>8496</th>\n",
       "      <td>2842</td>\n",
       "      <td>As of now it's only possible to set the Calend...</td>\n",
       "      <td>0</td>\n",
       "    </tr>\n",
       "    <tr>\n",
       "      <th>8497</th>\n",
       "      <td>2843</td>\n",
       "      <td>It's not possible to set the Hijri adjustment ...</td>\n",
       "      <td>0</td>\n",
       "    </tr>\n",
       "    <tr>\n",
       "      <th>8498</th>\n",
       "      <td>2844</td>\n",
       "      <td>The Windows 10 Calender app show cases this fe...</td>\n",
       "      <td>0</td>\n",
       "    </tr>\n",
       "  </tbody>\n",
       "</table>\n",
       "<p>8499 rows × 3 columns</p>\n",
       "</div>"
      ],
      "text/plain": [
       "       663_3  \\\n",
       "0      663_4   \n",
       "1      664_1   \n",
       "2      664_2   \n",
       "3      664_3   \n",
       "4      664_4   \n",
       "5      664_5   \n",
       "6      665_1   \n",
       "7      665_2   \n",
       "8      665_3   \n",
       "9      665_5   \n",
       "10     665_6   \n",
       "11     665_7   \n",
       "12     665_8   \n",
       "13     665_9   \n",
       "14    665_10   \n",
       "15     666_1   \n",
       "16     667_1   \n",
       "17     667_2   \n",
       "18     667_3   \n",
       "19     667_4   \n",
       "20     667_5   \n",
       "21     667_6   \n",
       "22     667_7   \n",
       "23     667_8   \n",
       "24     667_9   \n",
       "25    667_10   \n",
       "26    667_11   \n",
       "27    667_12   \n",
       "28    667_13   \n",
       "29    667_14   \n",
       "...      ...   \n",
       "8469    2784   \n",
       "8470    2788   \n",
       "8471    2789   \n",
       "8472    2790   \n",
       "8473    2793   \n",
       "8474    2794   \n",
       "8475    2795   \n",
       "8476    2798   \n",
       "8477    2801   \n",
       "8478    2802   \n",
       "8479    2803   \n",
       "8480    2804   \n",
       "8481    2807   \n",
       "8482    2809   \n",
       "8483    2811   \n",
       "8484    2812   \n",
       "8485    2814   \n",
       "8486    2816   \n",
       "8487    2818   \n",
       "8488    2822   \n",
       "8489    2824   \n",
       "8490    2831   \n",
       "8491    2832   \n",
       "8492    2836   \n",
       "8493    2838   \n",
       "8494    2839   \n",
       "8495    2840   \n",
       "8496    2842   \n",
       "8497    2843   \n",
       "8498    2844   \n",
       "\n",
       "     \"Please enable removing language code from the Dev Center \"language history\" For example if you ever selected \"ru\" and \"ru-ru\" laguages and you published this xap to the Store then it causes Tile localization to show the en-us(default) tile localization which is bad.\"  \\\n",
       "0     \"Note: in your .csproj file, there is a Suppor...                                                                                                                                                                                                                             \n",
       "1     \"Wich means the new version not fully replaced...                                                                                                                                                                                                                             \n",
       "2     \"Some of my users will still receive the old x...                                                                                                                                                                                                                             \n",
       "3     \"The store randomly gives the old xap or the n...                                                                                                                                                                                                                             \n",
       "4     \"My app has a WP7 version and a WP8 version XA...                                                                                                                                                                                                                             \n",
       "5     \"The wp7 xap works only on WP7 and the wp8 xap...                                                                                                                                                                                                                             \n",
       "6     \"Sometimes the Store gives the wrong wp7 xap v...                                                                                                                                                                                                                             \n",
       "7     \"It should be an option to remove the \"ru\" lan...                                                                                                                                                                                                                             \n",
       "8     \"Currently if you ever mistakenly selected a \"...                                                                                                                                                                                                                             \n",
       "9     \"): the store will randomly deliver the old/wr...                                                                                                                                                                                                                             \n",
       "10    \"I write a lot support ticket on this, but no ...                                                                                                                                                                                                                             \n",
       "11    \"The engineering team can solve this issue if ...                                                                                                                                                                                                                             \n",
       "12    \"Provide a workaround for removing the \"ru\" la...                                                                                                                                                                                                                             \n",
       "13    \"Or add and implement an AppResLib.dll.xxxx.mu...                                                                                                                                                                                                                             \n",
       "14    \"Wich means the new version not fully replaced...                                                                                                                                                                                                                             \n",
       "15    \"When I driving my car and need to make call a...                                                                                                                                                                                                                             \n",
       "16    \"But if I press power button and unlock device...                                                                                                                                                                                                                             \n",
       "17                    \"This in driving mode activated.\"                                                                                                                                                                                                                             \n",
       "18    \"Also in italian translation, after reading sm...                                                                                                                                                                                                                             \n",
       "19       \"If I say \"fatto\" vocal command unrecognized!\"                                                                                                                                                                                                                             \n",
       "20    \"Other little bugs: with my lumia 820 before f...                                                                                                                                                                                                                             \n",
       "21                          \"Don't recognize commands.\"                                                                                                                                                                                                                             \n",
       "22    \"But my old wp7 work fine using same bt sony c...                                                                                                                                                                                                                             \n",
       "23    \"Other little bugs: with my lumia 820 before f...                                                                                                                                                                                                                             \n",
       "24                             \"Outlook color schemes.\"                                                                                                                                                                                                                             \n",
       "25        \"Settings, current live tile Size , and More\"                                                                                                                                                                                                                             \n",
       "26    \"Open the network + settings and tap on call s...                                                                                                                                                                                                                             \n",
       "27          \"Hit the power button to go to sleep mode.\"                                                                                                                                                                                                                             \n",
       "28    \"Wait for 15-20 minutes and switch on the mobi...                                                                                                                                                                                                                             \n",
       "29    \"The window will be blank with only heading on...                                                                                                                                                                                                                             \n",
       "...                                                 ...                                                                                                                                                                                                                             \n",
       "8469    Each number represents the shadow in each side.                                                                                                                                                                                                                             \n",
       "8470  In 99 percent of cases I receive MeasureOverri...                                                                                                                                                                                                                             \n",
       "8471             Which means that something went wrong.                                                                                                                                                                                                                             \n",
       "8472  No stacktrace and guess yourself is what WinRT...                                                                                                                                                                                                                             \n",
       "8473   I am using RichTextBox for editing the rtf text.                                                                                                                                                                                                                             \n",
       "8474  Initially if I have rtf text in first line and...                                                                                                                                                                                                                             \n",
       "8475  If the device is connected to a network speech...                                                                                                                                                                                                                             \n",
       "8476  Even the official Microsoft UWP sample accuses...                                                                                                                                                                                                                             \n",
       "8477  For large teams just having one team member be...                                                                                                                                                                                                                             \n",
       "8478  The API is fine but where I'm running into tro...                                                                                                                                                                                                                             \n",
       "8479  (Event registration order doesn't seem to make...                                                                                                                                                                                                                             \n",
       "8480          This makes for problems with things like:                                                                                                                                                                                                                             \n",
       "8481  (The SplitView captures the first BackRequeste...                                                                                                                                                                                                                             \n",
       "8482  A Flyout with custom picker UI that uses BackR...                                                                                                                                                                                                                             \n",
       "8483  I'm a developer trying to make a Discord app f...                                                                                                                                                                                                                             \n",
       "8484  It is a significant limitation to not have an ...                                                                                                                                                                                                                             \n",
       "8485  I've tried to use the Microsoft.ConnectedDevic...                                                                                                                                                                                                                             \n",
       "8486  1. a type of Horizontal one row ListView/GridV...                                                                                                                                                                                                                             \n",
       "8487  Only Horizontal Scrolling available because it...                                                                                                                                                                                                                             \n",
       "8488  When the user will press button for next items...                                                                                                                                                                                                                             \n",
       "8489  Example : Best example is the youtube homepage...                                                                                                                                                                                                                             \n",
       "8490  Scrolling/Navigation Buttons on right side nex...                                                                                                                                                                                                                             \n",
       "8491  Next/Previous Behaviour : the available screen...                                                                                                                                                                                                                             \n",
       "8492  I haven't found any possible way to do that so...                                                                                                                                                                                                                             \n",
       "8493  The SerialDevice implementation appears to be ...                                                                                                                                                                                                                             \n",
       "8494  The following will reliably throw some flavor ...                                                                                                                                                                                                                             \n",
       "8495  This will reliably result in a BSOD if zero by...                                                                                                                                                                                                                             \n",
       "8496  As of now it's only possible to set the Calend...                                                                                                                                                                                                                             \n",
       "8497  It's not possible to set the Hijri adjustment ...                                                                                                                                                                                                                             \n",
       "8498  The Windows 10 Calender app show cases this fe...                                                                                                                                                                                                                             \n",
       "\n",
       "      1  \n",
       "0     0  \n",
       "1     0  \n",
       "2     0  \n",
       "3     0  \n",
       "4     0  \n",
       "5     0  \n",
       "6     0  \n",
       "7     1  \n",
       "8     0  \n",
       "9     0  \n",
       "10    0  \n",
       "11    0  \n",
       "12    1  \n",
       "13    1  \n",
       "14    0  \n",
       "15    0  \n",
       "16    0  \n",
       "17    0  \n",
       "18    0  \n",
       "19    0  \n",
       "20    0  \n",
       "21    0  \n",
       "22    0  \n",
       "23    0  \n",
       "24    0  \n",
       "25    0  \n",
       "26    0  \n",
       "27    0  \n",
       "28    0  \n",
       "29    0  \n",
       "...  ..  \n",
       "8469  0  \n",
       "8470  0  \n",
       "8471  0  \n",
       "8472  0  \n",
       "8473  0  \n",
       "8474  0  \n",
       "8475  0  \n",
       "8476  0  \n",
       "8477  0  \n",
       "8478  0  \n",
       "8479  0  \n",
       "8480  0  \n",
       "8481  0  \n",
       "8482  0  \n",
       "8483  0  \n",
       "8484  0  \n",
       "8485  0  \n",
       "8486  0  \n",
       "8487  0  \n",
       "8488  0  \n",
       "8489  0  \n",
       "8490  0  \n",
       "8491  0  \n",
       "8492  0  \n",
       "8493  0  \n",
       "8494  0  \n",
       "8495  0  \n",
       "8496  0  \n",
       "8497  0  \n",
       "8498  0  \n",
       "\n",
       "[8499 rows x 3 columns]"
      ]
     },
     "execution_count": 7,
     "metadata": {},
     "output_type": "execute_result"
    }
   ],
   "source": [
    "df"
   ]
  },
  {
   "cell_type": "code",
   "execution_count": 8,
   "metadata": {
    "colab": {},
    "colab_type": "code",
    "id": "0dSjHcnoT1Q7"
   },
   "outputs": [],
   "source": [
    "texts = np.concatenate((['\"Please enable removing language code from the Dev Center \"language history\" For example if you ever selected \"ru\" and \"ru-ru\" laguages and you published this xap to the Store then it causes Tile localization to show the en-us(default) tile localization which is bad.\"'],df.iloc[:]['\"Please enable removing language code from the Dev Center \"language history\" For example if you ever selected \"ru\" and \"ru-ru\" laguages and you published this xap to the Store then it causes Tile localization to show the en-us(default) tile localization which is bad.\"']),axis=0)"
   ]
  },
  {
   "cell_type": "code",
   "execution_count": 9,
   "metadata": {
    "colab": {},
    "colab_type": "code",
    "id": "xTRDU1UlT46O"
   },
   "outputs": [],
   "source": [
    "labels = np.concatenate(([1],df.iloc[:]['1'].values),axis=0)"
   ]
  },
  {
   "cell_type": "code",
   "execution_count": 10,
   "metadata": {
    "colab": {
     "base_uri": "https://localhost:8080/",
     "height": 34
    },
    "colab_type": "code",
    "executionInfo": {
     "elapsed": 3432,
     "status": "ok",
     "timestamp": 1554733061773,
     "user": {
      "displayName": "Aditya k",
      "photoUrl": "https://lh6.googleusercontent.com/-ruMdTRw9XAE/AAAAAAAAAAI/AAAAAAAAARU/le-Q4DlvqZA/s64/photo.jpg",
      "userId": "13090405165683797787"
     },
     "user_tz": -330
    },
    "id": "IxdlBXbUT65q",
    "outputId": "94714ee6-056d-438e-fbc4-cabb63342bb9"
   },
   "outputs": [
    {
     "data": {
      "text/plain": [
       "(8500, 8500)"
      ]
     },
     "execution_count": 10,
     "metadata": {},
     "output_type": "execute_result"
    }
   ],
   "source": [
    "len(labels),len(texts)"
   ]
  },
  {
   "cell_type": "code",
   "execution_count": 11,
   "metadata": {
    "colab": {},
    "colab_type": "code",
    "id": "wa0AzoZuT8jV"
   },
   "outputs": [],
   "source": [
    "texts = [text.replace('\"','') for text in texts]"
   ]
  },
  {
   "cell_type": "code",
   "execution_count": 12,
   "metadata": {
    "colab": {},
    "colab_type": "code",
    "id": "i4jtnvT8T-tg"
   },
   "outputs": [],
   "source": [
    "new_dataframe = pd.DataFrame({'texts':[],'labels':[]})"
   ]
  },
  {
   "cell_type": "code",
   "execution_count": 13,
   "metadata": {
    "colab": {},
    "colab_type": "code",
    "id": "HQIUV9QzUA87"
   },
   "outputs": [],
   "source": [
    "new_dataframe['texts'] = texts\n",
    "new_dataframe['labels'] = labels"
   ]
  },
  {
   "cell_type": "code",
   "execution_count": 14,
   "metadata": {
    "colab": {
     "base_uri": "https://localhost:8080/",
     "height": 204
    },
    "colab_type": "code",
    "executionInfo": {
     "elapsed": 2273,
     "status": "ok",
     "timestamp": 1554733095567,
     "user": {
      "displayName": "Aditya k",
      "photoUrl": "https://lh6.googleusercontent.com/-ruMdTRw9XAE/AAAAAAAAAAI/AAAAAAAAARU/le-Q4DlvqZA/s64/photo.jpg",
      "userId": "13090405165683797787"
     },
     "user_tz": -330
    },
    "id": "gEb6vtqEUC_q",
    "outputId": "037ec78d-d8e9-468c-eb7a-1a4355436424"
   },
   "outputs": [
    {
     "data": {
      "text/html": [
       "<div>\n",
       "<style scoped>\n",
       "    .dataframe tbody tr th:only-of-type {\n",
       "        vertical-align: middle;\n",
       "    }\n",
       "\n",
       "    .dataframe tbody tr th {\n",
       "        vertical-align: top;\n",
       "    }\n",
       "\n",
       "    .dataframe thead th {\n",
       "        text-align: right;\n",
       "    }\n",
       "</style>\n",
       "<table border=\"1\" class=\"dataframe\">\n",
       "  <thead>\n",
       "    <tr style=\"text-align: right;\">\n",
       "      <th></th>\n",
       "      <th>texts</th>\n",
       "      <th>labels</th>\n",
       "    </tr>\n",
       "  </thead>\n",
       "  <tbody>\n",
       "    <tr>\n",
       "      <th>0</th>\n",
       "      <td>Please enable removing language code from the ...</td>\n",
       "      <td>1</td>\n",
       "    </tr>\n",
       "    <tr>\n",
       "      <th>1</th>\n",
       "      <td>Note: in your .csproj file, there is a Support...</td>\n",
       "      <td>0</td>\n",
       "    </tr>\n",
       "    <tr>\n",
       "      <th>2</th>\n",
       "      <td>Wich means the new version not fully replaced ...</td>\n",
       "      <td>0</td>\n",
       "    </tr>\n",
       "    <tr>\n",
       "      <th>3</th>\n",
       "      <td>Some of my users will still receive the old xa...</td>\n",
       "      <td>0</td>\n",
       "    </tr>\n",
       "    <tr>\n",
       "      <th>4</th>\n",
       "      <td>The store randomly gives the old xap or the ne...</td>\n",
       "      <td>0</td>\n",
       "    </tr>\n",
       "  </tbody>\n",
       "</table>\n",
       "</div>"
      ],
      "text/plain": [
       "                                               texts  labels\n",
       "0  Please enable removing language code from the ...       1\n",
       "1  Note: in your .csproj file, there is a Support...       0\n",
       "2  Wich means the new version not fully replaced ...       0\n",
       "3  Some of my users will still receive the old xa...       0\n",
       "4  The store randomly gives the old xap or the ne...       0"
      ]
     },
     "execution_count": 14,
     "metadata": {},
     "output_type": "execute_result"
    }
   ],
   "source": [
    "new_dataframe.head()"
   ]
  },
  {
   "cell_type": "code",
   "execution_count": 15,
   "metadata": {
    "colab": {},
    "colab_type": "code",
    "id": "Aud6oJBJUFFZ"
   },
   "outputs": [],
   "source": [
    "new_dataframe['len'] = ' '"
   ]
  },
  {
   "cell_type": "code",
   "execution_count": 16,
   "metadata": {
    "colab": {
     "base_uri": "https://localhost:8080/",
     "height": 34
    },
    "colab_type": "code",
    "executionInfo": {
     "elapsed": 3192,
     "status": "ok",
     "timestamp": 1554733123302,
     "user": {
      "displayName": "Aditya k",
      "photoUrl": "https://lh6.googleusercontent.com/-ruMdTRw9XAE/AAAAAAAAAAI/AAAAAAAAARU/le-Q4DlvqZA/s64/photo.jpg",
      "userId": "13090405165683797787"
     },
     "user_tz": -330
    },
    "id": "NIeWcEyoUHYh",
    "outputId": "17f67d45-0e92-4783-bb64-6be4b131096e"
   },
   "outputs": [
    {
     "data": {
      "text/plain": [
       "2085"
      ]
     },
     "execution_count": 16,
     "metadata": {},
     "output_type": "execute_result"
    }
   ],
   "source": [
    "list(labels).count(1)"
   ]
  },
  {
   "cell_type": "code",
   "execution_count": 17,
   "metadata": {
    "colab": {
     "base_uri": "https://localhost:8080/",
     "height": 34
    },
    "colab_type": "code",
    "executionInfo": {
     "elapsed": 1286,
     "status": "ok",
     "timestamp": 1554733128507,
     "user": {
      "displayName": "Aditya k",
      "photoUrl": "https://lh6.googleusercontent.com/-ruMdTRw9XAE/AAAAAAAAAAI/AAAAAAAAARU/le-Q4DlvqZA/s64/photo.jpg",
      "userId": "13090405165683797787"
     },
     "user_tz": -330
    },
    "id": "qYQB73KCULoY",
    "outputId": "860bb356-9fde-4020-e8b2-b89d9f1e12b5"
   },
   "outputs": [
    {
     "data": {
      "text/plain": [
       "6415"
      ]
     },
     "execution_count": 17,
     "metadata": {},
     "output_type": "execute_result"
    }
   ],
   "source": [
    "list(labels).count(0)"
   ]
  },
  {
   "cell_type": "code",
   "execution_count": 0,
   "metadata": {
    "colab": {},
    "colab_type": "code",
    "id": "KZTse__kUNXk"
   },
   "outputs": [],
   "source": [
    "# Lowercase and remove whitespaces\n",
    "texts = [text.lower().strip() for text in texts]\n",
    "\n",
    "\n",
    "# Remove numbers\n",
    "texts = [re.sub(r'\\d+', '', text) for text in texts]\n",
    "\n",
    "\n",
    "#Remove Punctuation\n",
    "from nltk.tokenize import RegexpTokenizer\n",
    "tokenizer = RegexpTokenizer(r'\\w+')\n",
    "for i in range(len(texts)):\n",
    "    texts[i] = ' '.join(tokenizer.tokenize(texts[i]))\n",
    "new_dataframe['texts'] = texts "
   ]
  },
  {
   "cell_type": "code",
   "execution_count": 0,
   "metadata": {
    "colab": {},
    "colab_type": "code",
    "id": "9U3mjvrHUU9L"
   },
   "outputs": [],
   "source": [
    "# Now bucketing the data, as the texts are of different lengths.\n",
    "new_dataframe['len'] = [len(text) for text in texts]"
   ]
  },
  {
   "cell_type": "code",
   "execution_count": 0,
   "metadata": {
    "colab": {
     "base_uri": "https://localhost:8080/",
     "height": 34
    },
    "colab_type": "code",
    "executionInfo": {
     "elapsed": 2724,
     "status": "ok",
     "timestamp": 1554733181553,
     "user": {
      "displayName": "Aditya k",
      "photoUrl": "https://lh6.googleusercontent.com/-ruMdTRw9XAE/AAAAAAAAAAI/AAAAAAAAARU/le-Q4DlvqZA/s64/photo.jpg",
      "userId": "13090405165683797787"
     },
     "user_tz": -330
    },
    "id": "pnEjaUOxUX7A",
    "outputId": "d0e8ac64-6aa3-4f20-8399-69b05e0921d2"
   },
   "outputs": [
    {
     "data": {
      "text/plain": [
       "(0, 1768)"
      ]
     },
     "execution_count": 29,
     "metadata": {
      "tags": []
     },
     "output_type": "execute_result"
    }
   ],
   "source": [
    "min(new_dataframe['len'].values),max(new_dataframe['len'].values)"
   ]
  },
  {
   "cell_type": "code",
   "execution_count": 0,
   "metadata": {
    "colab": {
     "base_uri": "https://localhost:8080/",
     "height": 34
    },
    "colab_type": "code",
    "executionInfo": {
     "elapsed": 2327,
     "status": "ok",
     "timestamp": 1554733190834,
     "user": {
      "displayName": "Aditya k",
      "photoUrl": "https://lh6.googleusercontent.com/-ruMdTRw9XAE/AAAAAAAAAAI/AAAAAAAAARU/le-Q4DlvqZA/s64/photo.jpg",
      "userId": "13090405165683797787"
     },
     "user_tz": -330
    },
    "id": "dF0SmMItUZ9w",
    "outputId": "13ca9598-ba08-405c-8772-9686a54e7fce"
   },
   "outputs": [
    {
     "data": {
      "text/plain": [
       "12"
      ]
     },
     "execution_count": 30,
     "metadata": {
      "tags": []
     },
     "output_type": "execute_result"
    }
   ],
   "source": [
    "list(new_dataframe['len'].values).count(0)"
   ]
  },
  {
   "cell_type": "code",
   "execution_count": 0,
   "metadata": {
    "colab": {
     "base_uri": "https://localhost:8080/",
     "height": 34
    },
    "colab_type": "code",
    "executionInfo": {
     "elapsed": 3115,
     "status": "ok",
     "timestamp": 1554733199363,
     "user": {
      "displayName": "Aditya k",
      "photoUrl": "https://lh6.googleusercontent.com/-ruMdTRw9XAE/AAAAAAAAAAI/AAAAAAAAARU/le-Q4DlvqZA/s64/photo.jpg",
      "userId": "13090405165683797787"
     },
     "user_tz": -330
    },
    "id": "F484zctfUcVA",
    "outputId": "28d21691-c3bc-420c-e6df-e7e139515d3c"
   },
   "outputs": [
    {
     "data": {
      "text/plain": [
       "8500"
      ]
     },
     "execution_count": 31,
     "metadata": {
      "tags": []
     },
     "output_type": "execute_result"
    }
   ],
   "source": [
    "len(new_dataframe)"
   ]
  },
  {
   "cell_type": "code",
   "execution_count": 0,
   "metadata": {
    "colab": {
     "base_uri": "https://localhost:8080/",
     "height": 34
    },
    "colab_type": "code",
    "executionInfo": {
     "elapsed": 3013,
     "status": "ok",
     "timestamp": 1554733207181,
     "user": {
      "displayName": "Aditya k",
      "photoUrl": "https://lh6.googleusercontent.com/-ruMdTRw9XAE/AAAAAAAAAAI/AAAAAAAAARU/le-Q4DlvqZA/s64/photo.jpg",
      "userId": "13090405165683797787"
     },
     "user_tz": -330
    },
    "id": "IwNC4GmmUeN-",
    "outputId": "29941c53-2952-4005-8dc2-c4ea4e4bf2eb"
   },
   "outputs": [
    {
     "data": {
      "text/plain": [
       "8500"
      ]
     },
     "execution_count": 32,
     "metadata": {
      "tags": []
     },
     "output_type": "execute_result"
    }
   ],
   "source": [
    "len(new_dataframe.dropna())"
   ]
  },
  {
   "cell_type": "code",
   "execution_count": 0,
   "metadata": {
    "colab": {},
    "colab_type": "code",
    "id": "IVx--fU6UgJd"
   },
   "outputs": [],
   "source": [
    "new_dataframe = pd.DataFrame(new_dataframe)"
   ]
  },
  {
   "cell_type": "code",
   "execution_count": 0,
   "metadata": {
    "colab": {},
    "colab_type": "code",
    "id": "Po0ABxEIUiVI"
   },
   "outputs": [],
   "source": [
    "for i in range(len(new_dataframe)):\n",
    "    if(new_dataframe.loc[i].len == 0):\n",
    "        new_dataframe = new_dataframe.drop(i)"
   ]
  },
  {
   "cell_type": "code",
   "execution_count": 0,
   "metadata": {
    "colab": {
     "base_uri": "https://localhost:8080/",
     "height": 34
    },
    "colab_type": "code",
    "executionInfo": {
     "elapsed": 4300,
     "status": "ok",
     "timestamp": 1554733236829,
     "user": {
      "displayName": "Aditya k",
      "photoUrl": "https://lh6.googleusercontent.com/-ruMdTRw9XAE/AAAAAAAAAAI/AAAAAAAAARU/le-Q4DlvqZA/s64/photo.jpg",
      "userId": "13090405165683797787"
     },
     "user_tz": -330
    },
    "id": "N4XpaseiUkh3",
    "outputId": "a2919444-174c-42c5-9f15-bee1441560e9"
   },
   "outputs": [
    {
     "data": {
      "text/plain": [
       "0"
      ]
     },
     "execution_count": 35,
     "metadata": {
      "tags": []
     },
     "output_type": "execute_result"
    }
   ],
   "source": [
    "len(new_dataframe[(new_dataframe.len==0)])"
   ]
  },
  {
   "cell_type": "code",
   "execution_count": 0,
   "metadata": {
    "colab": {
     "base_uri": "https://localhost:8080/",
     "height": 34
    },
    "colab_type": "code",
    "executionInfo": {
     "elapsed": 3249,
     "status": "ok",
     "timestamp": 1554733249566,
     "user": {
      "displayName": "Aditya k",
      "photoUrl": "https://lh6.googleusercontent.com/-ruMdTRw9XAE/AAAAAAAAAAI/AAAAAAAAARU/le-Q4DlvqZA/s64/photo.jpg",
      "userId": "13090405165683797787"
     },
     "user_tz": -330
    },
    "id": "xCsy0lj6UnEp",
    "outputId": "bd132a16-dd30-40da-827f-c5f79477c013"
   },
   "outputs": [
    {
     "data": {
      "text/plain": [
       "8488"
      ]
     },
     "execution_count": 36,
     "metadata": {
      "tags": []
     },
     "output_type": "execute_result"
    }
   ],
   "source": [
    "len(new_dataframe)"
   ]
  },
  {
   "cell_type": "code",
   "execution_count": 0,
   "metadata": {
    "colab": {
     "base_uri": "https://localhost:8080/",
     "height": 34
    },
    "colab_type": "code",
    "executionInfo": {
     "elapsed": 2742,
     "status": "ok",
     "timestamp": 1554733257234,
     "user": {
      "displayName": "Aditya k",
      "photoUrl": "https://lh6.googleusercontent.com/-ruMdTRw9XAE/AAAAAAAAAAI/AAAAAAAAARU/le-Q4DlvqZA/s64/photo.jpg",
      "userId": "13090405165683797787"
     },
     "user_tz": -330
    },
    "id": "KMj-s8mUUqcS",
    "outputId": "4f2072a1-d25c-433b-fbbe-f41689938dc8"
   },
   "outputs": [
    {
     "data": {
      "text/plain": [
       "(2, 1768)"
      ]
     },
     "execution_count": 37,
     "metadata": {
      "tags": []
     },
     "output_type": "execute_result"
    }
   ],
   "source": [
    "min(new_dataframe['len'].values),max(new_dataframe['len'].values)"
   ]
  },
  {
   "cell_type": "code",
   "execution_count": 0,
   "metadata": {
    "colab": {},
    "colab_type": "code",
    "id": "ug3dS_OtUsb-"
   },
   "outputs": [],
   "source": [
    "def make_batch(data, batch_size=200, gpu=True):# making batches to pass in model during training\n",
    "    for bx in range(len(bucket_sizes)):\n",
    "        bucket_data = new_dataframe[(new_dataframe.bucket==bx)].reset_index(drop=True)\n",
    "        start = 0\n",
    "        stop = start + batch_size\n",
    "        while start < bucket_data.shape[0]:\n",
    "            seq_len = bucket_sizes[bx][1]\n",
    "            section = bucket_data[start:stop]\n",
    "            xdata = seq_data_matrix(section.texts, max_len=seq_len)\n",
    "            ydata = np.asarray(section['labels'].values)\n",
    "            if gpu == True:\n",
    "                yield Variable(torch.FloatTensor(xdata).cuda(), requires_grad=True), Variable(torch.LongTensor(ydata)).cuda()\n",
    "            else:\n",
    "                yield Variable(torch.FloatTensor(xdata), requires_grad=True), Variable(torch.LongTensor(ydata))\n",
    "            \n",
    "            start = stop\n",
    "            stop = start + batch_size\n",
    "    "
   ]
  },
  {
   "cell_type": "code",
   "execution_count": 0,
   "metadata": {
    "colab": {},
    "colab_type": "code",
    "id": "271EkgawUzCJ"
   },
   "outputs": [],
   "source": [
    "unique, counts = np.unique(new_dataframe['len'].values, return_counts=True)"
   ]
  },
  {
   "cell_type": "code",
   "execution_count": 0,
   "metadata": {
    "colab": {},
    "colab_type": "code",
    "id": "iPLdSBMCU2KE"
   },
   "outputs": [],
   "source": [
    "unique_lengths = dict(zip(unique, counts))"
   ]
  },
  {
   "cell_type": "code",
   "execution_count": 0,
   "metadata": {
    "colab": {},
    "colab_type": "code",
    "id": "CVy0vS9uU5f4"
   },
   "outputs": [],
   "source": [
    "bucket_sizes = [[0, 25],[25,50], [50, 100], [100, 150], [150, 200], [200, 250], [250, 350],[350,700],[700,2000]]\n",
    "\n",
    "def assign_bucket(x):  \n",
    "    for bucket in bucket_sizes:\n",
    "        if x>=bucket[0] and x<=bucket[1]:\n",
    "            return bucket_sizes.index(bucket)\n",
    "    return len(bucket_sizes)-1"
   ]
  },
  {
   "cell_type": "code",
   "execution_count": 0,
   "metadata": {
    "colab": {
     "base_uri": "https://localhost:8080/",
     "height": 204
    },
    "colab_type": "code",
    "executionInfo": {
     "elapsed": 3078,
     "status": "ok",
     "timestamp": 1554733330905,
     "user": {
      "displayName": "Aditya k",
      "photoUrl": "https://lh6.googleusercontent.com/-ruMdTRw9XAE/AAAAAAAAAAI/AAAAAAAAARU/le-Q4DlvqZA/s64/photo.jpg",
      "userId": "13090405165683797787"
     },
     "user_tz": -330
    },
    "id": "kN9GJyvxU7qO",
    "outputId": "8b97093f-030a-4c8e-b116-878e2d861728"
   },
   "outputs": [
    {
     "data": {
      "text/html": [
       "<div>\n",
       "<style scoped>\n",
       "    .dataframe tbody tr th:only-of-type {\n",
       "        vertical-align: middle;\n",
       "    }\n",
       "\n",
       "    .dataframe tbody tr th {\n",
       "        vertical-align: top;\n",
       "    }\n",
       "\n",
       "    .dataframe thead th {\n",
       "        text-align: right;\n",
       "    }\n",
       "</style>\n",
       "<table border=\"1\" class=\"dataframe\">\n",
       "  <thead>\n",
       "    <tr style=\"text-align: right;\">\n",
       "      <th></th>\n",
       "      <th>labels</th>\n",
       "      <th>texts</th>\n",
       "      <th>len</th>\n",
       "      <th>bucket</th>\n",
       "    </tr>\n",
       "  </thead>\n",
       "  <tbody>\n",
       "    <tr>\n",
       "      <th>0</th>\n",
       "      <td>1</td>\n",
       "      <td>please enable removing language code from the ...</td>\n",
       "      <td>258</td>\n",
       "      <td>6</td>\n",
       "    </tr>\n",
       "    <tr>\n",
       "      <th>1</th>\n",
       "      <td>0</td>\n",
       "      <td>note in your csproj file there is a supportedc...</td>\n",
       "      <td>266</td>\n",
       "      <td>6</td>\n",
       "    </tr>\n",
       "    <tr>\n",
       "      <th>2</th>\n",
       "      <td>0</td>\n",
       "      <td>wich means the new version not fully replaced ...</td>\n",
       "      <td>102</td>\n",
       "      <td>3</td>\n",
       "    </tr>\n",
       "    <tr>\n",
       "      <th>3</th>\n",
       "      <td>0</td>\n",
       "      <td>some of my users will still receive the old xa...</td>\n",
       "      <td>65</td>\n",
       "      <td>2</td>\n",
       "    </tr>\n",
       "    <tr>\n",
       "      <th>4</th>\n",
       "      <td>0</td>\n",
       "      <td>the store randomly gives the old xap or the ne...</td>\n",
       "      <td>69</td>\n",
       "      <td>2</td>\n",
       "    </tr>\n",
       "  </tbody>\n",
       "</table>\n",
       "</div>"
      ],
      "text/plain": [
       "   labels                                              texts  len  bucket\n",
       "0       1  please enable removing language code from the ...  258       6\n",
       "1       0  note in your csproj file there is a supportedc...  266       6\n",
       "2       0  wich means the new version not fully replaced ...  102       3\n",
       "3       0  some of my users will still receive the old xa...   65       2\n",
       "4       0  the store randomly gives the old xap or the ne...   69       2"
      ]
     },
     "execution_count": 42,
     "metadata": {
      "tags": []
     },
     "output_type": "execute_result"
    }
   ],
   "source": [
    "new_dataframe['bucket'] = new_dataframe.len.apply(assign_bucket)\n",
    "new_dataframe.head()"
   ]
  },
  {
   "cell_type": "code",
   "execution_count": 0,
   "metadata": {
    "colab": {
     "base_uri": "https://localhost:8080/",
     "height": 204
    },
    "colab_type": "code",
    "executionInfo": {
     "elapsed": 3051,
     "status": "ok",
     "timestamp": 1554733341731,
     "user": {
      "displayName": "Aditya k",
      "photoUrl": "https://lh6.googleusercontent.com/-ruMdTRw9XAE/AAAAAAAAAAI/AAAAAAAAARU/le-Q4DlvqZA/s64/photo.jpg",
      "userId": "13090405165683797787"
     },
     "user_tz": -330
    },
    "id": "e5t_PSAOU-Vj",
    "outputId": "3be54d4a-a12b-4e3d-d0cf-e71352048dfe"
   },
   "outputs": [
    {
     "data": {
      "text/html": [
       "<div>\n",
       "<style scoped>\n",
       "    .dataframe tbody tr th:only-of-type {\n",
       "        vertical-align: middle;\n",
       "    }\n",
       "\n",
       "    .dataframe tbody tr th {\n",
       "        vertical-align: top;\n",
       "    }\n",
       "\n",
       "    .dataframe thead th {\n",
       "        text-align: right;\n",
       "    }\n",
       "</style>\n",
       "<table border=\"1\" class=\"dataframe\">\n",
       "  <thead>\n",
       "    <tr style=\"text-align: right;\">\n",
       "      <th></th>\n",
       "      <th>labels</th>\n",
       "      <th>texts</th>\n",
       "      <th>len</th>\n",
       "      <th>bucket</th>\n",
       "    </tr>\n",
       "  </thead>\n",
       "  <tbody>\n",
       "    <tr>\n",
       "      <th>1556</th>\n",
       "      <td>0</td>\n",
       "      <td>select delete</td>\n",
       "      <td>13</td>\n",
       "      <td>0</td>\n",
       "    </tr>\n",
       "    <tr>\n",
       "      <th>1699</th>\n",
       "      <td>0</td>\n",
       "      <td>is it a good idea</td>\n",
       "      <td>17</td>\n",
       "      <td>0</td>\n",
       "    </tr>\n",
       "    <tr>\n",
       "      <th>6570</th>\n",
       "      <td>0</td>\n",
       "      <td>waiting for reply</td>\n",
       "      <td>17</td>\n",
       "      <td>0</td>\n",
       "    </tr>\n",
       "    <tr>\n",
       "      <th>6190</th>\n",
       "      <td>0</td>\n",
       "      <td>thankyou</td>\n",
       "      <td>8</td>\n",
       "      <td>0</td>\n",
       "    </tr>\n",
       "    <tr>\n",
       "      <th>4414</th>\n",
       "      <td>0</td>\n",
       "      <td>best regards from germany</td>\n",
       "      <td>25</td>\n",
       "      <td>0</td>\n",
       "    </tr>\n",
       "  </tbody>\n",
       "</table>\n",
       "</div>"
      ],
      "text/plain": [
       "      labels                      texts  len  bucket\n",
       "1556       0              select delete   13       0\n",
       "1699       0          is it a good idea   17       0\n",
       "6570       0          waiting for reply   17       0\n",
       "6190       0                   thankyou    8       0\n",
       "4414       0  best regards from germany   25       0"
      ]
     },
     "execution_count": 43,
     "metadata": {
      "tags": []
     },
     "output_type": "execute_result"
    }
   ],
   "source": [
    "new_dataframe = new_dataframe.sort_values(by=['bucket'])\n",
    "new_dataframe.head()"
   ]
  },
  {
   "cell_type": "code",
   "execution_count": 0,
   "metadata": {
    "colab": {},
    "colab_type": "code",
    "id": "S9J92v8KVA_W"
   },
   "outputs": [],
   "source": [
    "class SentModel(nn.Module):\n",
    "    def __init__(self, in_shape=None, out_shape=None, hidden_shape=None):\n",
    "        super(SentModel, self).__init__()\n",
    "        self.in_shape = in_shape\n",
    "        self.out_shape = out_shape\n",
    "        self.hidden_shape = hidden_shape\n",
    "        self.n_layers = 1\n",
    "        \n",
    "        self.rnn = nn.LSTM(\n",
    "                        input_size = self.in_shape,\n",
    "                        hidden_size = self.hidden_shape,\n",
    "                        num_layers = self.n_layers,\n",
    "                        batch_first = True\n",
    "        )\n",
    "        self.lin = nn.Linear(self.hidden_shape, 64)\n",
    "        self.dropout = nn.Dropout(0.42)\n",
    "        self.out = nn.Linear(64, self.out_shape)\n",
    "        \n",
    "        \n",
    "    def forward(self, x, h):\n",
    "        r_out, h_state = self.rnn(x, h)\n",
    "        last_out = r_out[:, -1, :]\n",
    "        y = f.tanh(self.lin(last_out))\n",
    "        y = self.dropout(y)\n",
    "        y = f.softmax(self.out(y))\n",
    "        return y\n",
    "    \n",
    "    def predict(self, x):\n",
    "        h_state = self.init_hidden(1, gpu=False)    \n",
    "        x = sequence_to_data(x)\n",
    "        pred = self.forward(torch.FloatTensor(x), h_state)\n",
    "        return pred\n",
    "    \n",
    "    def get_embedding(self, x):\n",
    "        h_state = self.init_hidden(1, gpu=False)\n",
    "        \n",
    "        x = sequence_to_data(x)\n",
    "        r_out, h = self.rnn(torch.FloatTensor(x), h_state)\n",
    "        last_out = r_out[:, -1, :]\n",
    "        \n",
    "        return last_out.data.numpy()\n",
    "      \n",
    "    def init_hidden(self, batch_size, gpu=True):\n",
    "        if gpu:\n",
    "            return (Variable(torch.zeros(self.n_layers, batch_size, self.hidden_shape).cuda()),\n",
    "                    Variable(torch.zeros(self.n_layers, batch_size, self.hidden_shape)).cuda())\n",
    "        return (Variable(torch.zeros(self.n_layers, batch_size, self.hidden_shape)),\n",
    "                Variable(torch.zeros(self.n_layers, batch_size, self.hidden_shape)))\n"
   ]
  },
  {
   "cell_type": "code",
   "execution_count": 0,
   "metadata": {
    "colab": {
     "base_uri": "https://localhost:8080/",
     "height": 119
    },
    "colab_type": "code",
    "executionInfo": {
     "elapsed": 2741,
     "status": "ok",
     "timestamp": 1554734509327,
     "user": {
      "displayName": "Aditya k",
      "photoUrl": "https://lh6.googleusercontent.com/-ruMdTRw9XAE/AAAAAAAAAAI/AAAAAAAAARU/le-Q4DlvqZA/s64/photo.jpg",
      "userId": "13090405165683797787"
     },
     "user_tz": -330
    },
    "id": "rpKEo2uPVGzz",
    "outputId": "ea77e7d2-31c7-4857-d9ae-757e4e5e9755"
   },
   "outputs": [
    {
     "name": "stdout",
     "output_type": "stream",
     "text": [
      "SentModel(\n",
      "  (rnn): LSTM(384, 256, batch_first=True)\n",
      "  (lin): Linear(in_features=256, out_features=64, bias=True)\n",
      "  (dropout): Dropout(p=0.42)\n",
      "  (out): Linear(in_features=64, out_features=2, bias=True)\n",
      ")\n"
     ]
    }
   ],
   "source": [
    "model = SentModel(in_shape=384, hidden_shape=256, out_shape=2)\n",
    "model.cuda()\n",
    "print(model)"
   ]
  },
  {
   "cell_type": "code",
   "execution_count": 0,
   "metadata": {
    "colab": {},
    "colab_type": "code",
    "id": "UMi0Jdm-VUAA"
   },
   "outputs": [],
   "source": [
    "optimizer = torch.optim.Adam(model.parameters(), lr=0.0003)\n",
    "criterion = nn.CrossEntropyLoss()"
   ]
  },
  {
   "cell_type": "code",
   "execution_count": 0,
   "metadata": {
    "colab": {},
    "colab_type": "code",
    "id": "V7ougip_VbYk"
   },
   "outputs": [],
   "source": [
    "new_dataframe = new_dataframe.reset_index(drop=True)"
   ]
  },
  {
   "cell_type": "code",
   "execution_count": 0,
   "metadata": {
    "colab": {
     "base_uri": "https://localhost:8080/",
     "height": 8548
    },
    "colab_type": "code",
    "executionInfo": {
     "elapsed": 20807,
     "status": "error",
     "timestamp": 1554744961639,
     "user": {
      "displayName": "Aditya k",
      "photoUrl": "https://lh6.googleusercontent.com/-ruMdTRw9XAE/AAAAAAAAAAI/AAAAAAAAARU/le-Q4DlvqZA/s64/photo.jpg",
      "userId": "13090405165683797787"
     },
     "user_tz": -330
    },
    "id": "151bnTsrVhPv",
    "outputId": "b24342e2-af73-4962-b84d-89b7aa3cd341"
   },
   "outputs": [
    {
     "name": "stdout",
     "output_type": "stream",
     "text": [
      "(1, 25, 384)\n",
      "(1, 25, 384)\n",
      "(1, 25, 384)\n",
      "(1, 25, 384)\n",
      "(1, 25, 384)\n",
      "(1, 25, 384)\n",
      "(1, 25, 384)\n",
      "(1, 25, 384)\n",
      "(1, 25, 384)\n",
      "(1, 25, 384)\n",
      "(1, 25, 384)\n",
      "(1, 25, 384)\n",
      "(1, 25, 384)\n",
      "(1, 25, 384)\n",
      "(1, 25, 384)\n",
      "(1, 25, 384)\n",
      "(1, 25, 384)\n",
      "(1, 25, 384)\n",
      "(1, 25, 384)\n",
      "(1, 25, 384)\n",
      "(1, 25, 384)\n",
      "(1, 25, 384)\n",
      "(1, 25, 384)\n",
      "(1, 25, 384)\n",
      "(1, 25, 384)\n",
      "(1, 25, 384)\n",
      "(1, 25, 384)\n",
      "(1, 25, 384)\n",
      "(1, 25, 384)\n",
      "(1, 25, 384)\n",
      "(1, 25, 384)\n",
      "(1, 25, 384)\n",
      "(1, 25, 384)\n",
      "(1, 25, 384)\n",
      "(1, 25, 384)\n",
      "(1, 25, 384)\n",
      "(1, 25, 384)\n",
      "(1, 25, 384)\n",
      "(1, 25, 384)\n",
      "(1, 25, 384)\n",
      "(1, 25, 384)\n",
      "(1, 25, 384)\n",
      "(1, 25, 384)\n",
      "(1, 25, 384)\n",
      "(1, 25, 384)\n",
      "(1, 25, 384)\n",
      "(1, 25, 384)\n",
      "(1, 25, 384)\n",
      "(1, 25, 384)\n",
      "(1, 25, 384)\n",
      "(1, 25, 384)\n",
      "(1, 25, 384)\n",
      "(1, 25, 384)\n",
      "(1, 25, 384)\n",
      "(1, 25, 384)\n",
      "(1, 25, 384)\n",
      "(1, 25, 384)\n",
      "(1, 25, 384)\n",
      "(1, 25, 384)\n",
      "(1, 25, 384)\n",
      "(1, 25, 384)\n",
      "(1, 25, 384)\n",
      "(1, 25, 384)\n",
      "(1, 25, 384)\n",
      "(1, 25, 384)\n",
      "(1, 25, 384)\n",
      "(1, 25, 384)\n",
      "(1, 25, 384)\n",
      "(1, 25, 384)\n",
      "(1, 25, 384)\n",
      "(1, 25, 384)\n",
      "(1, 25, 384)\n",
      "(1, 25, 384)\n",
      "(1, 25, 384)\n",
      "(1, 25, 384)\n",
      "(1, 25, 384)\n",
      "(1, 25, 384)\n",
      "(1, 25, 384)\n",
      "(1, 25, 384)\n",
      "(1, 25, 384)\n",
      "(1, 25, 384)\n",
      "(1, 25, 384)\n",
      "(1, 25, 384)\n",
      "(1, 25, 384)\n",
      "(1, 25, 384)\n",
      "(1, 25, 384)\n",
      "(1, 25, 384)\n",
      "(1, 25, 384)\n",
      "(1, 25, 384)\n",
      "(1, 25, 384)\n",
      "(1, 25, 384)\n",
      "(1, 25, 384)\n",
      "(1, 25, 384)\n",
      "(1, 25, 384)\n",
      "(1, 25, 384)\n",
      "(1, 25, 384)\n",
      "(1, 25, 384)\n",
      "(1, 25, 384)\n",
      "(1, 25, 384)\n",
      "(1, 25, 384)\n",
      "(1, 25, 384)\n",
      "(1, 25, 384)\n",
      "(1, 25, 384)\n",
      "(1, 25, 384)\n",
      "(1, 25, 384)\n",
      "(1, 25, 384)\n",
      "(1, 25, 384)\n",
      "(1, 25, 384)\n",
      "(1, 25, 384)\n",
      "(1, 25, 384)\n",
      "(1, 25, 384)\n",
      "(1, 25, 384)\n",
      "(1, 25, 384)\n",
      "(1, 25, 384)\n",
      "(1, 25, 384)\n",
      "(1, 25, 384)\n",
      "(1, 25, 384)\n",
      "(1, 25, 384)\n",
      "(1, 25, 384)\n",
      "(1, 25, 384)\n",
      "(1, 25, 384)\n",
      "(1, 25, 384)\n",
      "(1, 25, 384)\n",
      "(1, 25, 384)\n",
      "(1, 25, 384)\n",
      "(1, 25, 384)\n",
      "(1, 25, 384)\n",
      "(1, 25, 384)\n",
      "(1, 25, 384)\n",
      "(1, 25, 384)\n",
      "(1, 25, 384)\n",
      "(1, 25, 384)\n",
      "(1, 25, 384)\n",
      "(1, 25, 384)\n",
      "(1, 25, 384)\n",
      "(1, 25, 384)\n",
      "(1, 25, 384)\n",
      "(1, 25, 384)\n",
      "(1, 25, 384)\n",
      "(1, 25, 384)\n",
      "(1, 25, 384)\n",
      "(1, 25, 384)\n",
      "(1, 25, 384)\n",
      "(1, 25, 384)\n",
      "(1, 25, 384)\n",
      "(1, 25, 384)\n",
      "(1, 25, 384)\n",
      "(1, 25, 384)\n",
      "(1, 25, 384)\n",
      "(1, 25, 384)\n",
      "(1, 25, 384)\n",
      "(1, 25, 384)\n",
      "(1, 25, 384)\n",
      "(1, 25, 384)\n",
      "(1, 25, 384)\n",
      "(1, 25, 384)\n",
      "(1, 25, 384)\n",
      "(1, 25, 384)\n",
      "(1, 25, 384)\n",
      "(1, 25, 384)\n",
      "(1, 25, 384)\n",
      "(1, 25, 384)\n",
      "(1, 25, 384)\n",
      "(1, 25, 384)\n",
      "(1, 25, 384)\n",
      "(1, 25, 384)\n",
      "(1, 25, 384)\n",
      "(1, 25, 384)\n",
      "(1, 25, 384)\n",
      "(1, 25, 384)\n",
      "(1, 25, 384)\n",
      "(1, 25, 384)\n",
      "(1, 25, 384)\n",
      "(1, 25, 384)\n",
      "(1, 25, 384)\n",
      "(1, 25, 384)\n",
      "(1, 25, 384)\n",
      "(1, 25, 384)\n",
      "(1, 25, 384)\n",
      "(1, 25, 384)\n",
      "(1, 25, 384)\n",
      "(1, 25, 384)\n",
      "(1, 25, 384)\n",
      "(1, 25, 384)\n",
      "(1, 25, 384)\n",
      "(1, 25, 384)\n",
      "(1, 25, 384)\n",
      "(1, 25, 384)\n",
      "(1, 25, 384)\n",
      "(1, 25, 384)\n",
      "(1, 25, 384)\n",
      "(1, 25, 384)\n",
      "(1, 25, 384)\n",
      "(1, 25, 384)\n",
      "(1, 25, 384)\n",
      "(1, 25, 384)\n",
      "(1, 25, 384)\n",
      "(1, 25, 384)\n",
      "(1, 25, 384)\n",
      "(1, 25, 384)\n",
      "Loss: 0.4083299934864044 at Epoch: 0 | Step: 0\n"
     ]
    },
    {
     "name": "stderr",
     "output_type": "stream",
     "text": [
      "/usr/local/lib/python3.6/dist-packages/torch/nn/functional.py:1320: UserWarning: nn.functional.tanh is deprecated. Use torch.tanh instead.\n",
      "  warnings.warn(\"nn.functional.tanh is deprecated. Use torch.tanh instead.\")\n",
      "/usr/local/lib/python3.6/dist-packages/ipykernel_launcher.py:25: UserWarning: Implicit dimension choice for softmax has been deprecated. Change the call to include dim=X as an argument.\n"
     ]
    },
    {
     "name": "stdout",
     "output_type": "stream",
     "text": [
      "(1, 25, 384)\n",
      "(1, 25, 384)\n",
      "(1, 25, 384)\n",
      "(1, 25, 384)\n",
      "(1, 25, 384)\n",
      "(1, 25, 384)\n",
      "(1, 25, 384)\n",
      "(1, 25, 384)\n",
      "(1, 25, 384)\n",
      "(1, 25, 384)\n",
      "(1, 25, 384)\n",
      "(1, 25, 384)\n",
      "(1, 25, 384)\n",
      "(1, 25, 384)\n",
      "(1, 25, 384)\n",
      "(1, 25, 384)\n",
      "(1, 25, 384)\n",
      "(1, 25, 384)\n",
      "(1, 25, 384)\n",
      "(1, 25, 384)\n",
      "(1, 25, 384)\n",
      "(1, 25, 384)\n",
      "(1, 25, 384)\n",
      "(1, 25, 384)\n",
      "(1, 25, 384)\n",
      "(1, 25, 384)\n",
      "(1, 25, 384)\n",
      "(1, 25, 384)\n",
      "(1, 25, 384)\n",
      "(1, 25, 384)\n",
      "(1, 25, 384)\n",
      "(1, 25, 384)\n",
      "(1, 25, 384)\n",
      "(1, 25, 384)\n",
      "(1, 25, 384)\n",
      "(1, 25, 384)\n",
      "(1, 25, 384)\n",
      "(1, 25, 384)\n",
      "(1, 25, 384)\n",
      "(1, 25, 384)\n",
      "(1, 25, 384)\n",
      "(1, 25, 384)\n",
      "(1, 25, 384)\n",
      "(1, 25, 384)\n",
      "(1, 25, 384)\n",
      "(1, 25, 384)\n",
      "(1, 25, 384)\n",
      "(1, 25, 384)\n",
      "(1, 25, 384)\n",
      "(1, 25, 384)\n",
      "(1, 25, 384)\n",
      "(1, 25, 384)\n",
      "(1, 25, 384)\n",
      "(1, 25, 384)\n",
      "(1, 25, 384)\n",
      "(1, 25, 384)\n",
      "(1, 25, 384)\n",
      "(1, 25, 384)\n",
      "(1, 25, 384)\n",
      "(1, 25, 384)\n",
      "(1, 25, 384)\n",
      "(1, 25, 384)\n",
      "(1, 25, 384)\n",
      "(1, 25, 384)\n",
      "(1, 25, 384)\n",
      "(1, 25, 384)\n",
      "(1, 25, 384)\n",
      "(1, 25, 384)\n",
      "(1, 25, 384)\n",
      "(1, 25, 384)\n",
      "(1, 25, 384)\n",
      "(1, 25, 384)\n",
      "(1, 25, 384)\n",
      "(1, 25, 384)\n",
      "(1, 25, 384)\n",
      "(1, 25, 384)\n",
      "(1, 25, 384)\n",
      "(1, 25, 384)\n",
      "(1, 25, 384)\n",
      "(1, 25, 384)\n",
      "(1, 25, 384)\n",
      "(1, 25, 384)\n",
      "(1, 25, 384)\n",
      "(1, 25, 384)\n",
      "(1, 25, 384)\n",
      "(1, 25, 384)\n",
      "(1, 25, 384)\n",
      "(1, 25, 384)\n",
      "(1, 25, 384)\n",
      "(1, 25, 384)\n",
      "(1, 25, 384)\n",
      "(1, 25, 384)\n",
      "(1, 25, 384)\n",
      "(1, 25, 384)\n",
      "(1, 25, 384)\n",
      "(1, 25, 384)\n",
      "(1, 25, 384)\n",
      "(1, 25, 384)\n",
      "(1, 25, 384)\n",
      "(1, 25, 384)\n",
      "(1, 25, 384)\n",
      "(1, 25, 384)\n",
      "(1, 25, 384)\n",
      "(1, 25, 384)\n",
      "(1, 25, 384)\n",
      "(1, 25, 384)\n",
      "(1, 25, 384)\n",
      "(1, 25, 384)\n",
      "(1, 25, 384)\n",
      "(1, 25, 384)\n",
      "(1, 25, 384)\n",
      "(1, 25, 384)\n",
      "(1, 25, 384)\n",
      "(1, 25, 384)\n",
      "(1, 25, 384)\n",
      "(1, 25, 384)\n",
      "(1, 25, 384)\n",
      "(1, 25, 384)\n",
      "(1, 25, 384)\n",
      "(1, 25, 384)\n",
      "(1, 25, 384)\n",
      "(1, 25, 384)\n",
      "(1, 25, 384)\n",
      "(1, 25, 384)\n",
      "(1, 25, 384)\n",
      "(1, 25, 384)\n",
      "(1, 25, 384)\n",
      "(1, 25, 384)\n",
      "(1, 25, 384)\n",
      "(1, 25, 384)\n",
      "(1, 25, 384)\n",
      "(1, 25, 384)\n",
      "(1, 25, 384)\n",
      "(1, 25, 384)\n",
      "(1, 25, 384)\n",
      "(1, 25, 384)\n",
      "(1, 25, 384)\n",
      "(1, 25, 384)\n",
      "(1, 25, 384)\n",
      "(1, 25, 384)\n",
      "(1, 25, 384)\n",
      "(1, 25, 384)\n",
      "(1, 25, 384)\n",
      "(1, 25, 384)\n",
      "(1, 25, 384)\n",
      "(1, 25, 384)\n",
      "(1, 25, 384)\n",
      "(1, 25, 384)\n",
      "(1, 25, 384)\n",
      "(1, 25, 384)\n",
      "(1, 25, 384)\n",
      "(1, 25, 384)\n",
      "(1, 25, 384)\n",
      "(1, 25, 384)\n",
      "(1, 25, 384)\n",
      "(1, 25, 384)\n",
      "(1, 25, 384)\n",
      "(1, 25, 384)\n",
      "(1, 25, 384)\n",
      "(1, 25, 384)\n",
      "(1, 25, 384)\n",
      "(1, 25, 384)\n",
      "(1, 25, 384)\n",
      "(1, 25, 384)\n",
      "(1, 25, 384)\n",
      "(1, 25, 384)\n",
      "(1, 25, 384)\n",
      "(1, 25, 384)\n",
      "(1, 25, 384)\n",
      "(1, 25, 384)\n",
      "(1, 25, 384)\n",
      "(1, 25, 384)\n",
      "(1, 25, 384)\n",
      "(1, 25, 384)\n",
      "(1, 25, 384)\n",
      "(1, 25, 384)\n",
      "(1, 25, 384)\n",
      "(1, 25, 384)\n",
      "(1, 25, 384)\n",
      "(1, 25, 384)\n",
      "(1, 25, 384)\n",
      "(1, 25, 384)\n",
      "(1, 25, 384)\n",
      "(1, 25, 384)\n",
      "(1, 25, 384)\n",
      "(1, 25, 384)\n",
      "(1, 25, 384)\n",
      "(1, 25, 384)\n",
      "(1, 25, 384)\n"
     ]
    },
    {
     "ename": "KeyboardInterrupt",
     "evalue": "ignored",
     "output_type": "error",
     "traceback": [
      "\u001b[0;31m---------------------------------------------------------------------------\u001b[0m",
      "\u001b[0;31mKeyboardInterrupt\u001b[0m                         Traceback (most recent call last)",
      "\u001b[0;32m<ipython-input-70-e3a14fb43e74>\u001b[0m in \u001b[0;36m<module>\u001b[0;34m()\u001b[0m\n\u001b[1;32m      2\u001b[0m     \u001b[0mtotal_loss\u001b[0m \u001b[0;34m=\u001b[0m \u001b[0;36m0\u001b[0m\u001b[0;34m\u001b[0m\u001b[0;34m\u001b[0m\u001b[0m\n\u001b[1;32m      3\u001b[0m     \u001b[0mN\u001b[0m \u001b[0;34m=\u001b[0m \u001b[0;36m0\u001b[0m\u001b[0;34m\u001b[0m\u001b[0;34m\u001b[0m\u001b[0m\n\u001b[0;32m----> 4\u001b[0;31m     \u001b[0;32mfor\u001b[0m \u001b[0mstep\u001b[0m\u001b[0;34m,\u001b[0m \u001b[0;34m(\u001b[0m\u001b[0mb_x\u001b[0m\u001b[0;34m,\u001b[0m \u001b[0mb_y\u001b[0m\u001b[0;34m)\u001b[0m \u001b[0;32min\u001b[0m \u001b[0menumerate\u001b[0m\u001b[0;34m(\u001b[0m\u001b[0mmake_batch\u001b[0m\u001b[0;34m(\u001b[0m\u001b[0mnew_dataframe\u001b[0m\u001b[0;34m,\u001b[0m \u001b[0mbatch_size\u001b[0m\u001b[0;34m=\u001b[0m\u001b[0;36m200\u001b[0m\u001b[0;34m)\u001b[0m\u001b[0;34m)\u001b[0m\u001b[0;34m:\u001b[0m\u001b[0;34m\u001b[0m\u001b[0;34m\u001b[0m\u001b[0m\n\u001b[0m\u001b[1;32m      5\u001b[0m         \u001b[0mbsize\u001b[0m \u001b[0;34m=\u001b[0m \u001b[0mb_x\u001b[0m\u001b[0;34m.\u001b[0m\u001b[0msize\u001b[0m\u001b[0;34m(\u001b[0m\u001b[0;36m0\u001b[0m\u001b[0;34m)\u001b[0m\u001b[0;34m\u001b[0m\u001b[0;34m\u001b[0m\u001b[0m\n\u001b[1;32m      6\u001b[0m \u001b[0;34m\u001b[0m\u001b[0m\n",
      "\u001b[0;32m<ipython-input-69-3d65284ff08f>\u001b[0m in \u001b[0;36mmake_batch\u001b[0;34m(data, batch_size, gpu)\u001b[0m\n\u001b[1;32m      7\u001b[0m             \u001b[0mseq_len\u001b[0m \u001b[0;34m=\u001b[0m \u001b[0mbucket_sizes\u001b[0m\u001b[0;34m[\u001b[0m\u001b[0mbx\u001b[0m\u001b[0;34m]\u001b[0m\u001b[0;34m[\u001b[0m\u001b[0;36m1\u001b[0m\u001b[0;34m]\u001b[0m\u001b[0;34m\u001b[0m\u001b[0;34m\u001b[0m\u001b[0m\n\u001b[1;32m      8\u001b[0m             \u001b[0msection\u001b[0m \u001b[0;34m=\u001b[0m \u001b[0mbucket_data\u001b[0m\u001b[0;34m[\u001b[0m\u001b[0mstart\u001b[0m\u001b[0;34m:\u001b[0m\u001b[0mstop\u001b[0m\u001b[0;34m]\u001b[0m\u001b[0;34m\u001b[0m\u001b[0;34m\u001b[0m\u001b[0m\n\u001b[0;32m----> 9\u001b[0;31m             \u001b[0mxdata\u001b[0m \u001b[0;34m=\u001b[0m \u001b[0mseq_data_matrix\u001b[0m\u001b[0;34m(\u001b[0m\u001b[0msection\u001b[0m\u001b[0;34m.\u001b[0m\u001b[0mtexts\u001b[0m\u001b[0;34m,\u001b[0m \u001b[0mmax_len\u001b[0m\u001b[0;34m=\u001b[0m\u001b[0mseq_len\u001b[0m\u001b[0;34m)\u001b[0m\u001b[0;34m\u001b[0m\u001b[0;34m\u001b[0m\u001b[0m\n\u001b[0m\u001b[1;32m     10\u001b[0m             \u001b[0mydata\u001b[0m \u001b[0;34m=\u001b[0m \u001b[0mnp\u001b[0m\u001b[0;34m.\u001b[0m\u001b[0masarray\u001b[0m\u001b[0;34m(\u001b[0m\u001b[0msection\u001b[0m\u001b[0;34m[\u001b[0m\u001b[0;34m'labels'\u001b[0m\u001b[0;34m]\u001b[0m\u001b[0;34m.\u001b[0m\u001b[0mvalues\u001b[0m\u001b[0;34m)\u001b[0m\u001b[0;34m\u001b[0m\u001b[0;34m\u001b[0m\u001b[0m\n\u001b[1;32m     11\u001b[0m             \u001b[0;32mif\u001b[0m \u001b[0mgpu\u001b[0m \u001b[0;34m==\u001b[0m \u001b[0;32mTrue\u001b[0m\u001b[0;34m:\u001b[0m\u001b[0;34m\u001b[0m\u001b[0;34m\u001b[0m\u001b[0m\n",
      "\u001b[0;32m<ipython-input-68-58d4875f1f69>\u001b[0m in \u001b[0;36mseq_data_matrix\u001b[0;34m(seq_data, max_len)\u001b[0m\n\u001b[1;32m     12\u001b[0m \u001b[0;34m\u001b[0m\u001b[0m\n\u001b[1;32m     13\u001b[0m \u001b[0;32mdef\u001b[0m \u001b[0mseq_data_matrix\u001b[0m\u001b[0;34m(\u001b[0m\u001b[0mseq_data\u001b[0m\u001b[0;34m,\u001b[0m \u001b[0mmax_len\u001b[0m\u001b[0;34m=\u001b[0m\u001b[0;32mNone\u001b[0m\u001b[0;34m)\u001b[0m\u001b[0;34m:\u001b[0m  \u001b[0;31m####Now Concating different sentences and converting to a matrix\u001b[0m\u001b[0;34m\u001b[0m\u001b[0;34m\u001b[0m\u001b[0m\n\u001b[0;32m---> 14\u001b[0;31m     \u001b[0mdata\u001b[0m \u001b[0;34m=\u001b[0m \u001b[0mnp\u001b[0m\u001b[0;34m.\u001b[0m\u001b[0mconcatenate\u001b[0m\u001b[0;34m(\u001b[0m\u001b[0;34m[\u001b[0m\u001b[0msequence_to_data\u001b[0m\u001b[0;34m(\u001b[0m\u001b[0mix\u001b[0m\u001b[0;34m,\u001b[0m \u001b[0mmax_len\u001b[0m\u001b[0;34m)\u001b[0m \u001b[0;32mfor\u001b[0m \u001b[0mix\u001b[0m \u001b[0;32min\u001b[0m \u001b[0mseq_data\u001b[0m\u001b[0;34m]\u001b[0m\u001b[0;34m,\u001b[0m \u001b[0maxis\u001b[0m\u001b[0;34m=\u001b[0m\u001b[0;36m0\u001b[0m\u001b[0;34m)\u001b[0m\u001b[0;34m\u001b[0m\u001b[0;34m\u001b[0m\u001b[0m\n\u001b[0m\u001b[1;32m     15\u001b[0m     \u001b[0;32mreturn\u001b[0m \u001b[0mdata\u001b[0m\u001b[0;34m\u001b[0m\u001b[0;34m\u001b[0m\u001b[0m\n",
      "\u001b[0;32m<ipython-input-68-58d4875f1f69>\u001b[0m in \u001b[0;36m<listcomp>\u001b[0;34m(.0)\u001b[0m\n\u001b[1;32m     12\u001b[0m \u001b[0;34m\u001b[0m\u001b[0m\n\u001b[1;32m     13\u001b[0m \u001b[0;32mdef\u001b[0m \u001b[0mseq_data_matrix\u001b[0m\u001b[0;34m(\u001b[0m\u001b[0mseq_data\u001b[0m\u001b[0;34m,\u001b[0m \u001b[0mmax_len\u001b[0m\u001b[0;34m=\u001b[0m\u001b[0;32mNone\u001b[0m\u001b[0;34m)\u001b[0m\u001b[0;34m:\u001b[0m  \u001b[0;31m####Now Concating different sentences and converting to a matrix\u001b[0m\u001b[0;34m\u001b[0m\u001b[0;34m\u001b[0m\u001b[0m\n\u001b[0;32m---> 14\u001b[0;31m     \u001b[0mdata\u001b[0m \u001b[0;34m=\u001b[0m \u001b[0mnp\u001b[0m\u001b[0;34m.\u001b[0m\u001b[0mconcatenate\u001b[0m\u001b[0;34m(\u001b[0m\u001b[0;34m[\u001b[0m\u001b[0msequence_to_data\u001b[0m\u001b[0;34m(\u001b[0m\u001b[0mix\u001b[0m\u001b[0;34m,\u001b[0m \u001b[0mmax_len\u001b[0m\u001b[0;34m)\u001b[0m \u001b[0;32mfor\u001b[0m \u001b[0mix\u001b[0m \u001b[0;32min\u001b[0m \u001b[0mseq_data\u001b[0m\u001b[0;34m]\u001b[0m\u001b[0;34m,\u001b[0m \u001b[0maxis\u001b[0m\u001b[0;34m=\u001b[0m\u001b[0;36m0\u001b[0m\u001b[0;34m)\u001b[0m\u001b[0;34m\u001b[0m\u001b[0;34m\u001b[0m\u001b[0m\n\u001b[0m\u001b[1;32m     15\u001b[0m     \u001b[0;32mreturn\u001b[0m \u001b[0mdata\u001b[0m\u001b[0;34m\u001b[0m\u001b[0;34m\u001b[0m\u001b[0m\n",
      "\u001b[0;32m<ipython-input-68-58d4875f1f69>\u001b[0m in \u001b[0;36msequence_to_data\u001b[0;34m(seq, max_len)\u001b[0m\n\u001b[1;32m      1\u001b[0m \u001b[0;32mdef\u001b[0m \u001b[0msequence_to_data\u001b[0m\u001b[0;34m(\u001b[0m\u001b[0mseq\u001b[0m\u001b[0;34m,\u001b[0m \u001b[0mmax_len\u001b[0m\u001b[0;34m=\u001b[0m\u001b[0;32mNone\u001b[0m\u001b[0;34m)\u001b[0m\u001b[0;34m:\u001b[0m\u001b[0;34m\u001b[0m\u001b[0;34m\u001b[0m\u001b[0m\n\u001b[1;32m      2\u001b[0m     \u001b[0;31m####Converting sequence to data basically convertig words to vectors\u001b[0m\u001b[0;34m\u001b[0m\u001b[0;34m\u001b[0m\u001b[0;34m\u001b[0m\u001b[0m\n\u001b[0;32m----> 3\u001b[0;31m     \u001b[0mdata\u001b[0m \u001b[0;34m=\u001b[0m \u001b[0;34m[\u001b[0m\u001b[0mword_embeddings\u001b[0m\u001b[0;34m(\u001b[0m\u001b[0mix\u001b[0m\u001b[0;34m)\u001b[0m\u001b[0;34m.\u001b[0m\u001b[0mvector\u001b[0m \u001b[0;32mfor\u001b[0m \u001b[0mix\u001b[0m \u001b[0;32min\u001b[0m \u001b[0mseq\u001b[0m\u001b[0;34m.\u001b[0m\u001b[0msplit\u001b[0m\u001b[0;34m(\u001b[0m\u001b[0;34m)\u001b[0m\u001b[0;34m]\u001b[0m\u001b[0;34m\u001b[0m\u001b[0;34m\u001b[0m\u001b[0m\n\u001b[0m\u001b[1;32m      4\u001b[0m     \u001b[0;32mif\u001b[0m \u001b[0mmax_len\u001b[0m \u001b[0;34m==\u001b[0m \u001b[0;32mNone\u001b[0m\u001b[0;34m:\u001b[0m\u001b[0;34m\u001b[0m\u001b[0;34m\u001b[0m\u001b[0m\n\u001b[1;32m      5\u001b[0m         \u001b[0mmax_len\u001b[0m \u001b[0;34m=\u001b[0m \u001b[0mlen\u001b[0m\u001b[0;34m(\u001b[0m\u001b[0mdata\u001b[0m\u001b[0;34m)\u001b[0m\u001b[0;34m\u001b[0m\u001b[0;34m\u001b[0m\u001b[0m\n",
      "\u001b[0;32m<ipython-input-68-58d4875f1f69>\u001b[0m in \u001b[0;36m<listcomp>\u001b[0;34m(.0)\u001b[0m\n\u001b[1;32m      1\u001b[0m \u001b[0;32mdef\u001b[0m \u001b[0msequence_to_data\u001b[0m\u001b[0;34m(\u001b[0m\u001b[0mseq\u001b[0m\u001b[0;34m,\u001b[0m \u001b[0mmax_len\u001b[0m\u001b[0;34m=\u001b[0m\u001b[0;32mNone\u001b[0m\u001b[0;34m)\u001b[0m\u001b[0;34m:\u001b[0m\u001b[0;34m\u001b[0m\u001b[0;34m\u001b[0m\u001b[0m\n\u001b[1;32m      2\u001b[0m     \u001b[0;31m####Converting sequence to data basically convertig words to vectors\u001b[0m\u001b[0;34m\u001b[0m\u001b[0;34m\u001b[0m\u001b[0;34m\u001b[0m\u001b[0m\n\u001b[0;32m----> 3\u001b[0;31m     \u001b[0mdata\u001b[0m \u001b[0;34m=\u001b[0m \u001b[0;34m[\u001b[0m\u001b[0mword_embeddings\u001b[0m\u001b[0;34m(\u001b[0m\u001b[0mix\u001b[0m\u001b[0;34m)\u001b[0m\u001b[0;34m.\u001b[0m\u001b[0mvector\u001b[0m \u001b[0;32mfor\u001b[0m \u001b[0mix\u001b[0m \u001b[0;32min\u001b[0m \u001b[0mseq\u001b[0m\u001b[0;34m.\u001b[0m\u001b[0msplit\u001b[0m\u001b[0;34m(\u001b[0m\u001b[0;34m)\u001b[0m\u001b[0;34m]\u001b[0m\u001b[0;34m\u001b[0m\u001b[0;34m\u001b[0m\u001b[0m\n\u001b[0m\u001b[1;32m      4\u001b[0m     \u001b[0;32mif\u001b[0m \u001b[0mmax_len\u001b[0m \u001b[0;34m==\u001b[0m \u001b[0;32mNone\u001b[0m\u001b[0;34m:\u001b[0m\u001b[0;34m\u001b[0m\u001b[0;34m\u001b[0m\u001b[0m\n\u001b[1;32m      5\u001b[0m         \u001b[0mmax_len\u001b[0m \u001b[0;34m=\u001b[0m \u001b[0mlen\u001b[0m\u001b[0;34m(\u001b[0m\u001b[0mdata\u001b[0m\u001b[0;34m)\u001b[0m\u001b[0;34m\u001b[0m\u001b[0;34m\u001b[0m\u001b[0m\n",
      "\u001b[0;32m/usr/local/lib/python3.6/dist-packages/spacy/language.py\u001b[0m in \u001b[0;36m__call__\u001b[0;34m(self, text, disable)\u001b[0m\n\u001b[1;32m    344\u001b[0m             \u001b[0;32mif\u001b[0m \u001b[0;32mnot\u001b[0m \u001b[0mhasattr\u001b[0m\u001b[0;34m(\u001b[0m\u001b[0mproc\u001b[0m\u001b[0;34m,\u001b[0m \u001b[0;34m'__call__'\u001b[0m\u001b[0;34m)\u001b[0m\u001b[0;34m:\u001b[0m\u001b[0;34m\u001b[0m\u001b[0;34m\u001b[0m\u001b[0m\n\u001b[1;32m    345\u001b[0m                 \u001b[0;32mraise\u001b[0m \u001b[0mValueError\u001b[0m\u001b[0;34m(\u001b[0m\u001b[0mErrors\u001b[0m\u001b[0;34m.\u001b[0m\u001b[0mE003\u001b[0m\u001b[0;34m.\u001b[0m\u001b[0mformat\u001b[0m\u001b[0;34m(\u001b[0m\u001b[0mcomponent\u001b[0m\u001b[0;34m=\u001b[0m\u001b[0mtype\u001b[0m\u001b[0;34m(\u001b[0m\u001b[0mproc\u001b[0m\u001b[0;34m)\u001b[0m\u001b[0;34m,\u001b[0m \u001b[0mname\u001b[0m\u001b[0;34m=\u001b[0m\u001b[0mname\u001b[0m\u001b[0;34m)\u001b[0m\u001b[0;34m)\u001b[0m\u001b[0;34m\u001b[0m\u001b[0;34m\u001b[0m\u001b[0m\n\u001b[0;32m--> 346\u001b[0;31m             \u001b[0mdoc\u001b[0m \u001b[0;34m=\u001b[0m \u001b[0mproc\u001b[0m\u001b[0;34m(\u001b[0m\u001b[0mdoc\u001b[0m\u001b[0;34m)\u001b[0m\u001b[0;34m\u001b[0m\u001b[0;34m\u001b[0m\u001b[0m\n\u001b[0m\u001b[1;32m    347\u001b[0m             \u001b[0;32mif\u001b[0m \u001b[0mdoc\u001b[0m \u001b[0;32mis\u001b[0m \u001b[0;32mNone\u001b[0m\u001b[0;34m:\u001b[0m\u001b[0;34m\u001b[0m\u001b[0;34m\u001b[0m\u001b[0m\n\u001b[1;32m    348\u001b[0m                 \u001b[0;32mraise\u001b[0m \u001b[0mValueError\u001b[0m\u001b[0;34m(\u001b[0m\u001b[0mErrors\u001b[0m\u001b[0;34m.\u001b[0m\u001b[0mE005\u001b[0m\u001b[0;34m.\u001b[0m\u001b[0mformat\u001b[0m\u001b[0;34m(\u001b[0m\u001b[0mname\u001b[0m\u001b[0;34m=\u001b[0m\u001b[0mname\u001b[0m\u001b[0;34m)\u001b[0m\u001b[0;34m)\u001b[0m\u001b[0;34m\u001b[0m\u001b[0;34m\u001b[0m\u001b[0m\n",
      "\u001b[0;32mnn_parser.pyx\u001b[0m in \u001b[0;36mspacy.syntax.nn_parser.Parser.__call__\u001b[0;34m()\u001b[0m\n",
      "\u001b[0;32mnn_parser.pyx\u001b[0m in \u001b[0;36mspacy.syntax.nn_parser.Parser.parse_batch\u001b[0;34m()\u001b[0m\n",
      "\u001b[0;32mnn_parser.pyx\u001b[0m in \u001b[0;36mspacy.syntax.nn_parser.Parser.get_batch_model\u001b[0;34m()\u001b[0m\n",
      "\u001b[0;32m/usr/local/lib/python3.6/dist-packages/thinc/api.py\u001b[0m in \u001b[0;36mbegin_update\u001b[0;34m(self, X, drop)\u001b[0m\n\u001b[1;32m     59\u001b[0m         \u001b[0mcallbacks\u001b[0m \u001b[0;34m=\u001b[0m \u001b[0;34m[\u001b[0m\u001b[0;34m]\u001b[0m\u001b[0;34m\u001b[0m\u001b[0;34m\u001b[0m\u001b[0m\n\u001b[1;32m     60\u001b[0m         \u001b[0;32mfor\u001b[0m \u001b[0mlayer\u001b[0m \u001b[0;32min\u001b[0m \u001b[0mself\u001b[0m\u001b[0;34m.\u001b[0m\u001b[0m_layers\u001b[0m\u001b[0;34m:\u001b[0m\u001b[0;34m\u001b[0m\u001b[0;34m\u001b[0m\u001b[0m\n\u001b[0;32m---> 61\u001b[0;31m             \u001b[0mX\u001b[0m\u001b[0;34m,\u001b[0m \u001b[0minc_layer_grad\u001b[0m \u001b[0;34m=\u001b[0m \u001b[0mlayer\u001b[0m\u001b[0;34m.\u001b[0m\u001b[0mbegin_update\u001b[0m\u001b[0;34m(\u001b[0m\u001b[0mX\u001b[0m\u001b[0;34m,\u001b[0m \u001b[0mdrop\u001b[0m\u001b[0;34m=\u001b[0m\u001b[0mdrop\u001b[0m\u001b[0;34m)\u001b[0m\u001b[0;34m\u001b[0m\u001b[0;34m\u001b[0m\u001b[0m\n\u001b[0m\u001b[1;32m     62\u001b[0m             \u001b[0mcallbacks\u001b[0m\u001b[0;34m.\u001b[0m\u001b[0mappend\u001b[0m\u001b[0;34m(\u001b[0m\u001b[0minc_layer_grad\u001b[0m\u001b[0;34m)\u001b[0m\u001b[0;34m\u001b[0m\u001b[0;34m\u001b[0m\u001b[0m\n\u001b[1;32m     63\u001b[0m         \u001b[0;32mdef\u001b[0m \u001b[0mcontinue_update\u001b[0m\u001b[0;34m(\u001b[0m\u001b[0mgradient\u001b[0m\u001b[0;34m,\u001b[0m \u001b[0msgd\u001b[0m\u001b[0;34m=\u001b[0m\u001b[0;32mNone\u001b[0m\u001b[0;34m)\u001b[0m\u001b[0;34m:\u001b[0m\u001b[0;34m\u001b[0m\u001b[0;34m\u001b[0m\u001b[0m\n",
      "\u001b[0;32m/usr/local/lib/python3.6/dist-packages/thinc/api.py\u001b[0m in \u001b[0;36mbegin_update\u001b[0;34m(seqs_in, drop)\u001b[0m\n\u001b[1;32m    278\u001b[0m         \u001b[0mlengths\u001b[0m \u001b[0;34m=\u001b[0m \u001b[0mlayer\u001b[0m\u001b[0;34m.\u001b[0m\u001b[0mops\u001b[0m\u001b[0;34m.\u001b[0m\u001b[0masarray\u001b[0m\u001b[0;34m(\u001b[0m\u001b[0;34m[\u001b[0m\u001b[0mlen\u001b[0m\u001b[0;34m(\u001b[0m\u001b[0mseq\u001b[0m\u001b[0;34m)\u001b[0m \u001b[0;32mfor\u001b[0m \u001b[0mseq\u001b[0m \u001b[0;32min\u001b[0m \u001b[0mseqs_in\u001b[0m\u001b[0;34m]\u001b[0m\u001b[0;34m)\u001b[0m\u001b[0;34m\u001b[0m\u001b[0;34m\u001b[0m\u001b[0m\n\u001b[1;32m    279\u001b[0m         X, bp_layer = layer.begin_update(layer.ops.flatten(seqs_in, pad=pad),\n\u001b[0;32m--> 280\u001b[0;31m                                          drop=drop)\n\u001b[0m\u001b[1;32m    281\u001b[0m         \u001b[0;32mif\u001b[0m \u001b[0mbp_layer\u001b[0m \u001b[0;32mis\u001b[0m \u001b[0;32mNone\u001b[0m\u001b[0;34m:\u001b[0m\u001b[0;34m\u001b[0m\u001b[0;34m\u001b[0m\u001b[0m\n\u001b[1;32m    282\u001b[0m             \u001b[0;32mreturn\u001b[0m \u001b[0mlayer\u001b[0m\u001b[0;34m.\u001b[0m\u001b[0mops\u001b[0m\u001b[0;34m.\u001b[0m\u001b[0munflatten\u001b[0m\u001b[0;34m(\u001b[0m\u001b[0mX\u001b[0m\u001b[0;34m,\u001b[0m \u001b[0mlengths\u001b[0m\u001b[0;34m,\u001b[0m \u001b[0mpad\u001b[0m\u001b[0;34m=\u001b[0m\u001b[0mpad\u001b[0m\u001b[0;34m)\u001b[0m\u001b[0;34m,\u001b[0m \u001b[0;32mNone\u001b[0m\u001b[0;34m\u001b[0m\u001b[0;34m\u001b[0m\u001b[0m\n",
      "\u001b[0;32m/usr/local/lib/python3.6/dist-packages/thinc/api.py\u001b[0m in \u001b[0;36mbegin_update\u001b[0;34m(self, X, drop)\u001b[0m\n\u001b[1;32m     59\u001b[0m         \u001b[0mcallbacks\u001b[0m \u001b[0;34m=\u001b[0m \u001b[0;34m[\u001b[0m\u001b[0;34m]\u001b[0m\u001b[0;34m\u001b[0m\u001b[0;34m\u001b[0m\u001b[0m\n\u001b[1;32m     60\u001b[0m         \u001b[0;32mfor\u001b[0m \u001b[0mlayer\u001b[0m \u001b[0;32min\u001b[0m \u001b[0mself\u001b[0m\u001b[0;34m.\u001b[0m\u001b[0m_layers\u001b[0m\u001b[0;34m:\u001b[0m\u001b[0;34m\u001b[0m\u001b[0;34m\u001b[0m\u001b[0m\n\u001b[0;32m---> 61\u001b[0;31m             \u001b[0mX\u001b[0m\u001b[0;34m,\u001b[0m \u001b[0minc_layer_grad\u001b[0m \u001b[0;34m=\u001b[0m \u001b[0mlayer\u001b[0m\u001b[0;34m.\u001b[0m\u001b[0mbegin_update\u001b[0m\u001b[0;34m(\u001b[0m\u001b[0mX\u001b[0m\u001b[0;34m,\u001b[0m \u001b[0mdrop\u001b[0m\u001b[0;34m=\u001b[0m\u001b[0mdrop\u001b[0m\u001b[0;34m)\u001b[0m\u001b[0;34m\u001b[0m\u001b[0;34m\u001b[0m\u001b[0m\n\u001b[0m\u001b[1;32m     62\u001b[0m             \u001b[0mcallbacks\u001b[0m\u001b[0;34m.\u001b[0m\u001b[0mappend\u001b[0m\u001b[0;34m(\u001b[0m\u001b[0minc_layer_grad\u001b[0m\u001b[0;34m)\u001b[0m\u001b[0;34m\u001b[0m\u001b[0;34m\u001b[0m\u001b[0m\n\u001b[1;32m     63\u001b[0m         \u001b[0;32mdef\u001b[0m \u001b[0mcontinue_update\u001b[0m\u001b[0;34m(\u001b[0m\u001b[0mgradient\u001b[0m\u001b[0;34m,\u001b[0m \u001b[0msgd\u001b[0m\u001b[0;34m=\u001b[0m\u001b[0;32mNone\u001b[0m\u001b[0;34m)\u001b[0m\u001b[0;34m:\u001b[0m\u001b[0;34m\u001b[0m\u001b[0;34m\u001b[0m\u001b[0m\n",
      "\u001b[0;32m/usr/local/lib/python3.6/dist-packages/thinc/api.py\u001b[0m in \u001b[0;36muniqued_fwd\u001b[0;34m(X, drop)\u001b[0m\n\u001b[1;32m    372\u001b[0m                                                     return_counts=True)\n\u001b[1;32m    373\u001b[0m         \u001b[0mX_uniq\u001b[0m \u001b[0;34m=\u001b[0m \u001b[0mlayer\u001b[0m\u001b[0;34m.\u001b[0m\u001b[0mops\u001b[0m\u001b[0;34m.\u001b[0m\u001b[0mxp\u001b[0m\u001b[0;34m.\u001b[0m\u001b[0mascontiguousarray\u001b[0m\u001b[0;34m(\u001b[0m\u001b[0mX\u001b[0m\u001b[0;34m[\u001b[0m\u001b[0mind\u001b[0m\u001b[0;34m]\u001b[0m\u001b[0;34m)\u001b[0m\u001b[0;34m\u001b[0m\u001b[0;34m\u001b[0m\u001b[0m\n\u001b[0;32m--> 374\u001b[0;31m         \u001b[0mY_uniq\u001b[0m\u001b[0;34m,\u001b[0m \u001b[0mbp_Y_uniq\u001b[0m \u001b[0;34m=\u001b[0m \u001b[0mlayer\u001b[0m\u001b[0;34m.\u001b[0m\u001b[0mbegin_update\u001b[0m\u001b[0;34m(\u001b[0m\u001b[0mX_uniq\u001b[0m\u001b[0;34m,\u001b[0m \u001b[0mdrop\u001b[0m\u001b[0;34m=\u001b[0m\u001b[0mdrop\u001b[0m\u001b[0;34m)\u001b[0m\u001b[0;34m\u001b[0m\u001b[0;34m\u001b[0m\u001b[0m\n\u001b[0m\u001b[1;32m    375\u001b[0m         \u001b[0mY\u001b[0m \u001b[0;34m=\u001b[0m \u001b[0mY_uniq\u001b[0m\u001b[0;34m[\u001b[0m\u001b[0minv\u001b[0m\u001b[0;34m]\u001b[0m\u001b[0;34m.\u001b[0m\u001b[0mreshape\u001b[0m\u001b[0;34m(\u001b[0m\u001b[0;34m(\u001b[0m\u001b[0mX\u001b[0m\u001b[0;34m.\u001b[0m\u001b[0mshape\u001b[0m\u001b[0;34m[\u001b[0m\u001b[0;36m0\u001b[0m\u001b[0;34m]\u001b[0m\u001b[0;34m,\u001b[0m\u001b[0;34m)\u001b[0m \u001b[0;34m+\u001b[0m \u001b[0mY_uniq\u001b[0m\u001b[0;34m.\u001b[0m\u001b[0mshape\u001b[0m\u001b[0;34m[\u001b[0m\u001b[0;36m1\u001b[0m\u001b[0;34m:\u001b[0m\u001b[0;34m]\u001b[0m\u001b[0;34m)\u001b[0m\u001b[0;34m\u001b[0m\u001b[0;34m\u001b[0m\u001b[0m\n\u001b[1;32m    376\u001b[0m         \u001b[0;32mdef\u001b[0m \u001b[0muniqued_bwd\u001b[0m\u001b[0;34m(\u001b[0m\u001b[0mdY\u001b[0m\u001b[0;34m,\u001b[0m \u001b[0msgd\u001b[0m\u001b[0;34m=\u001b[0m\u001b[0;32mNone\u001b[0m\u001b[0;34m)\u001b[0m\u001b[0;34m:\u001b[0m\u001b[0;34m\u001b[0m\u001b[0;34m\u001b[0m\u001b[0m\n",
      "\u001b[0;32m/usr/local/lib/python3.6/dist-packages/thinc/api.py\u001b[0m in \u001b[0;36mbegin_update\u001b[0;34m(self, X, drop)\u001b[0m\n\u001b[1;32m     59\u001b[0m         \u001b[0mcallbacks\u001b[0m \u001b[0;34m=\u001b[0m \u001b[0;34m[\u001b[0m\u001b[0;34m]\u001b[0m\u001b[0;34m\u001b[0m\u001b[0;34m\u001b[0m\u001b[0m\n\u001b[1;32m     60\u001b[0m         \u001b[0;32mfor\u001b[0m \u001b[0mlayer\u001b[0m \u001b[0;32min\u001b[0m \u001b[0mself\u001b[0m\u001b[0;34m.\u001b[0m\u001b[0m_layers\u001b[0m\u001b[0;34m:\u001b[0m\u001b[0;34m\u001b[0m\u001b[0;34m\u001b[0m\u001b[0m\n\u001b[0;32m---> 61\u001b[0;31m             \u001b[0mX\u001b[0m\u001b[0;34m,\u001b[0m \u001b[0minc_layer_grad\u001b[0m \u001b[0;34m=\u001b[0m \u001b[0mlayer\u001b[0m\u001b[0;34m.\u001b[0m\u001b[0mbegin_update\u001b[0m\u001b[0;34m(\u001b[0m\u001b[0mX\u001b[0m\u001b[0;34m,\u001b[0m \u001b[0mdrop\u001b[0m\u001b[0;34m=\u001b[0m\u001b[0mdrop\u001b[0m\u001b[0;34m)\u001b[0m\u001b[0;34m\u001b[0m\u001b[0;34m\u001b[0m\u001b[0m\n\u001b[0m\u001b[1;32m     62\u001b[0m             \u001b[0mcallbacks\u001b[0m\u001b[0;34m.\u001b[0m\u001b[0mappend\u001b[0m\u001b[0;34m(\u001b[0m\u001b[0minc_layer_grad\u001b[0m\u001b[0;34m)\u001b[0m\u001b[0;34m\u001b[0m\u001b[0;34m\u001b[0m\u001b[0m\n\u001b[1;32m     63\u001b[0m         \u001b[0;32mdef\u001b[0m \u001b[0mcontinue_update\u001b[0m\u001b[0;34m(\u001b[0m\u001b[0mgradient\u001b[0m\u001b[0;34m,\u001b[0m \u001b[0msgd\u001b[0m\u001b[0;34m=\u001b[0m\u001b[0;32mNone\u001b[0m\u001b[0;34m)\u001b[0m\u001b[0;34m:\u001b[0m\u001b[0;34m\u001b[0m\u001b[0;34m\u001b[0m\u001b[0m\n",
      "\u001b[0;32m/usr/local/lib/python3.6/dist-packages/thinc/neural/_classes/layernorm.py\u001b[0m in \u001b[0;36mbegin_update\u001b[0;34m(self, X, drop)\u001b[0m\n\u001b[1;32m     49\u001b[0m \u001b[0;34m\u001b[0m\u001b[0m\n\u001b[1;32m     50\u001b[0m     \u001b[0;32mdef\u001b[0m \u001b[0mbegin_update\u001b[0m\u001b[0;34m(\u001b[0m\u001b[0mself\u001b[0m\u001b[0;34m,\u001b[0m \u001b[0mX\u001b[0m\u001b[0;34m,\u001b[0m \u001b[0mdrop\u001b[0m\u001b[0;34m=\u001b[0m\u001b[0;36m0.\u001b[0m\u001b[0;34m)\u001b[0m\u001b[0;34m:\u001b[0m\u001b[0;34m\u001b[0m\u001b[0;34m\u001b[0m\u001b[0m\n\u001b[0;32m---> 51\u001b[0;31m         \u001b[0mX\u001b[0m\u001b[0;34m,\u001b[0m \u001b[0mbackprop_child\u001b[0m \u001b[0;34m=\u001b[0m \u001b[0mself\u001b[0m\u001b[0;34m.\u001b[0m\u001b[0mchild\u001b[0m\u001b[0;34m.\u001b[0m\u001b[0mbegin_update\u001b[0m\u001b[0;34m(\u001b[0m\u001b[0mX\u001b[0m\u001b[0;34m,\u001b[0m \u001b[0mdrop\u001b[0m\u001b[0;34m=\u001b[0m\u001b[0;36m0.\u001b[0m\u001b[0;34m)\u001b[0m\u001b[0;34m\u001b[0m\u001b[0;34m\u001b[0m\u001b[0m\n\u001b[0m\u001b[1;32m     52\u001b[0m         \u001b[0mN\u001b[0m\u001b[0;34m,\u001b[0m \u001b[0mmu\u001b[0m\u001b[0;34m,\u001b[0m \u001b[0mvar\u001b[0m \u001b[0;34m=\u001b[0m \u001b[0m_get_moments\u001b[0m\u001b[0;34m(\u001b[0m\u001b[0mself\u001b[0m\u001b[0;34m.\u001b[0m\u001b[0mops\u001b[0m\u001b[0;34m,\u001b[0m \u001b[0mX\u001b[0m\u001b[0;34m)\u001b[0m\u001b[0;34m\u001b[0m\u001b[0;34m\u001b[0m\u001b[0m\n\u001b[1;32m     53\u001b[0m \u001b[0;34m\u001b[0m\u001b[0m\n",
      "\u001b[0;32m/usr/local/lib/python3.6/dist-packages/thinc/neural/_classes/maxout.py\u001b[0m in \u001b[0;36mbegin_update\u001b[0;34m(self, X__bi, drop)\u001b[0m\n\u001b[1;32m     67\u001b[0m         \u001b[0mW\u001b[0m \u001b[0;34m=\u001b[0m \u001b[0mself\u001b[0m\u001b[0;34m.\u001b[0m\u001b[0mW\u001b[0m\u001b[0;34m.\u001b[0m\u001b[0mreshape\u001b[0m\u001b[0;34m(\u001b[0m\u001b[0;34m(\u001b[0m\u001b[0mself\u001b[0m\u001b[0;34m.\u001b[0m\u001b[0mnO\u001b[0m \u001b[0;34m*\u001b[0m \u001b[0mself\u001b[0m\u001b[0;34m.\u001b[0m\u001b[0mnP\u001b[0m\u001b[0;34m,\u001b[0m \u001b[0mself\u001b[0m\u001b[0;34m.\u001b[0m\u001b[0mnI\u001b[0m\u001b[0;34m)\u001b[0m\u001b[0;34m)\u001b[0m\u001b[0;34m\u001b[0m\u001b[0;34m\u001b[0m\u001b[0m\n\u001b[1;32m     68\u001b[0m         \u001b[0mdrop\u001b[0m \u001b[0;34m*=\u001b[0m \u001b[0mself\u001b[0m\u001b[0;34m.\u001b[0m\u001b[0mdrop_factor\u001b[0m\u001b[0;34m\u001b[0m\u001b[0;34m\u001b[0m\u001b[0m\n\u001b[0;32m---> 69\u001b[0;31m         \u001b[0moutput__boc\u001b[0m \u001b[0;34m=\u001b[0m \u001b[0mself\u001b[0m\u001b[0;34m.\u001b[0m\u001b[0mops\u001b[0m\u001b[0;34m.\u001b[0m\u001b[0mbatch_dot\u001b[0m\u001b[0;34m(\u001b[0m\u001b[0mX__bi\u001b[0m\u001b[0;34m,\u001b[0m \u001b[0mW\u001b[0m\u001b[0;34m)\u001b[0m\u001b[0;34m\u001b[0m\u001b[0;34m\u001b[0m\u001b[0m\n\u001b[0m\u001b[1;32m     70\u001b[0m         \u001b[0moutput__boc\u001b[0m \u001b[0;34m+=\u001b[0m \u001b[0mself\u001b[0m\u001b[0;34m.\u001b[0m\u001b[0mb\u001b[0m\u001b[0;34m.\u001b[0m\u001b[0mreshape\u001b[0m\u001b[0;34m(\u001b[0m\u001b[0;34m(\u001b[0m\u001b[0mself\u001b[0m\u001b[0;34m.\u001b[0m\u001b[0mnO\u001b[0m\u001b[0;34m*\u001b[0m\u001b[0mself\u001b[0m\u001b[0;34m.\u001b[0m\u001b[0mnP\u001b[0m\u001b[0;34m,\u001b[0m\u001b[0;34m)\u001b[0m\u001b[0;34m)\u001b[0m\u001b[0;34m\u001b[0m\u001b[0;34m\u001b[0m\u001b[0m\n\u001b[1;32m     71\u001b[0m         \u001b[0moutput__boc\u001b[0m \u001b[0;34m=\u001b[0m \u001b[0moutput__boc\u001b[0m\u001b[0;34m.\u001b[0m\u001b[0mreshape\u001b[0m\u001b[0;34m(\u001b[0m\u001b[0;34m(\u001b[0m\u001b[0moutput__boc\u001b[0m\u001b[0;34m.\u001b[0m\u001b[0mshape\u001b[0m\u001b[0;34m[\u001b[0m\u001b[0;36m0\u001b[0m\u001b[0;34m]\u001b[0m\u001b[0;34m,\u001b[0m \u001b[0mself\u001b[0m\u001b[0;34m.\u001b[0m\u001b[0mnO\u001b[0m\u001b[0;34m,\u001b[0m \u001b[0mself\u001b[0m\u001b[0;34m.\u001b[0m\u001b[0mnP\u001b[0m\u001b[0;34m)\u001b[0m\u001b[0;34m)\u001b[0m\u001b[0;34m\u001b[0m\u001b[0;34m\u001b[0m\u001b[0m\n",
      "\u001b[0;31mKeyboardInterrupt\u001b[0m: "
     ]
    }
   ],
   "source": [
    "for epoch in range(50):\n",
    "    total_loss = 0\n",
    "    N = 0\n",
    "    for step, (b_x, b_y) in enumerate(make_batch(new_dataframe, batch_size=200)):\n",
    "        bsize = b_x.size(0)\n",
    "        \n",
    "        h_state = model.init_hidden(bsize, gpu = True)\n",
    "\n",
    "        pred = model(b_x, h_state)\n",
    "        loss = criterion(pred, b_y)\n",
    "        \n",
    "        optimizer.zero_grad()\n",
    "        loss.backward()\n",
    "        optimizer.step()\n",
    "        \n",
    "        total_loss += loss\n",
    "        N += 1.0\n",
    "        if step%20 == 0:\n",
    "            print('Loss: {} at Epoch: {} | Step: {}'.format(loss, epoch, step))\n",
    "        \n",
    "    print(\"Overall Average Loss: {} at Epoch: {}\".format(total_loss / float(N), epoch))\n",
    "    \n",
    " \n",
    "\n",
    "torch.save(model.state_dict(), \"model_256h_epoch_{}.ckpt\".format(epoch))\n",
    "\n"
   ]
  },
  {
   "cell_type": "code",
   "execution_count": 0,
   "metadata": {
    "colab": {
     "base_uri": "https://localhost:8080/",
     "height": 34
    },
    "colab_type": "code",
    "executionInfo": {
     "elapsed": 3176,
     "status": "ok",
     "timestamp": 1554734484838,
     "user": {
      "displayName": "Aditya k",
      "photoUrl": "https://lh6.googleusercontent.com/-ruMdTRw9XAE/AAAAAAAAAAI/AAAAAAAAARU/le-Q4DlvqZA/s64/photo.jpg",
      "userId": "13090405165683797787"
     },
     "user_tz": -330
    },
    "id": "-KcBUmB-WS-4",
    "outputId": "d7304864-60df-4ed2-9ae7-f797daa1dd5d"
   },
   "outputs": [
    {
     "data": {
      "text/plain": [
       "True"
      ]
     },
     "execution_count": 56,
     "metadata": {
      "tags": []
     },
     "output_type": "execute_result"
    }
   ],
   "source": [
    "next(model.parameters()).is_cuda"
   ]
  },
  {
   "cell_type": "code",
   "execution_count": 0,
   "metadata": {
    "colab": {},
    "colab_type": "code",
    "id": "KwikeDhbZYBa"
   },
   "outputs": [],
   "source": []
  }
 ],
 "metadata": {
  "accelerator": "GPU",
  "colab": {
   "name": "Untitled5.ipynb",
   "provenance": [],
   "version": "0.3.2"
  },
  "kernelspec": {
   "display_name": "Python 3",
   "language": "python",
   "name": "python3"
  },
  "language_info": {
   "codemirror_mode": {
    "name": "ipython",
    "version": 3
   },
   "file_extension": ".py",
   "mimetype": "text/x-python",
   "name": "python",
   "nbconvert_exporter": "python",
   "pygments_lexer": "ipython3",
   "version": "3.6.7"
  }
 },
 "nbformat": 4,
 "nbformat_minor": 1
}
