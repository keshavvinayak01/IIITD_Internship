{
 "cells": [
  {
   "cell_type": "code",
   "execution_count": 1,
   "metadata": {},
   "outputs": [],
   "source": [
    "# Importing Libraries and tokens\n",
    "\n",
    "import tweepy\n",
    "import json\n",
    "consumer_key = ''\n",
    "consumer_secret = ''\n",
    "access_token = ''\n",
    "access_token_secret = '' "
   ]
  },
  {
   "cell_type": "code",
   "execution_count": 2,
   "metadata": {},
   "outputs": [],
   "source": [
    "# Creating a connetion with twitter using tweepy authentication handler\n",
    "\n",
    "auth = tweepy.OAuthHandler(consumer_key, consumer_secret)\n",
    "auth.set_access_token(access_token, access_token_secret)\n",
    "\n",
    "# Creating a request criteria to geet results in JSON\n",
    "\n",
    "api = tweepy.API(auth,parser=tweepy.parsers.JSONParser())"
   ]
  },
  {
   "cell_type": "code",
   "execution_count": 16,
   "metadata": {},
   "outputs": [],
   "source": [
    "# Launching a request to twitter to return all the recent tweet made by midasIIITD in extented mode which will return all the details of the tweet\n",
    "results = api.search(q=\"midasIIITD\", count=100, tweet_mode='extended')"
   ]
  },
  {
   "cell_type": "code",
   "execution_count": 4,
   "metadata": {},
   "outputs": [
    {
     "data": {
      "text/plain": [
       "dict_keys(['statuses', 'search_metadata'])"
      ]
     },
     "execution_count": 4,
     "metadata": {},
     "output_type": "execute_result"
    }
   ],
   "source": [
    "results.keys()"
   ]
  },
  {
   "cell_type": "code",
   "execution_count": 14,
   "metadata": {},
   "outputs": [
    {
     "data": {
      "text/plain": [
       "36"
      ]
     },
     "execution_count": 14,
     "metadata": {},
     "output_type": "execute_result"
    }
   ],
   "source": [
    "len(results['statuses'])"
   ]
  },
  {
   "cell_type": "code",
   "execution_count": 6,
   "metadata": {},
   "outputs": [],
   "source": [
    "# Saving the result to be  \n",
    "with open('Data_JSON.json', 'w') as outfile:\n",
    "    json.dump(results, outfile)"
   ]
  },
  {
   "cell_type": "code",
   "execution_count": 7,
   "metadata": {},
   "outputs": [],
   "source": [
    "data = json.loads(open('Data_JSON.json').read())"
   ]
  },
  {
   "cell_type": "code",
   "execution_count": 8,
   "metadata": {},
   "outputs": [
    {
     "name": "stdout",
     "output_type": "stream",
     "text": [
      "36\n"
     ]
    }
   ],
   "source": [
    "print(len(data['statuses']))"
   ]
  },
  {
   "cell_type": "code",
   "execution_count": 9,
   "metadata": {},
   "outputs": [],
   "source": [
    "## Finding number of images in each tweet\n",
    "image_data = []\n",
    "for i in range(100):\n",
    "    image = 0\n",
    "    try:\n",
    "        for i in data['statuses'][i]['entities']['media']:\n",
    "            image = image + 1\n",
    "    except:\n",
    "        image = None\n",
    "    \n",
    "    image_data.append(image)"
   ]
  },
  {
   "cell_type": "code",
   "execution_count": 11,
   "metadata": {},
   "outputs": [
    {
     "name": "stdout",
     "output_type": "stream",
     "text": [
      "+----------------------------------------------------------------------------------------------------------------------------------------------------------------------------------------------------------------------------------------------------------------------------------------+--------------------------------+-------+----------+--------+\n",
      "|                                                                                                                                          Text                                                                                                                                          |           Created_At           | Likes | Retweets | Images |\n",
      "+----------------------------------------------------------------------------------------------------------------------------------------------------------------------------------------------------------------------------------------------------------------------------------------+--------------------------------+-------+----------+--------+\n",
      "|                                                                      RT @midasIIITD: Congratulations @midasIIITD students Simra Shahid @Simcyy and Nilay Shrivastava @NilayShri on getting selected for a resear…                                                                      | Mon Mar 25 13:50:09 +0000 2019 |   0   |    1     |  None  |\n",
      "|                                                                                       @midasIIITD @Simcyy Thank you. wouldn't have been possible without @RatnRajiv @the_dhumketu and @astu9880                                                                                        | Mon Mar 25 13:27:01 +0000 2019 |   1   |    0     |  None  |\n",
      "|                                                           Congratulations @midasIIITD students Simra Shahid @Simcyy and Nilay Shrivastava @NilayShri on getting selected for a research internship at Adobe in this summer.                                                            | Mon Mar 25 13:01:57 +0000 2019 |   6   |    1     |   1    |\n",
      "|                                                                                                                                                                                                                                                                                        |                                |       |          |        |\n",
      "|                                                                                                        #MIDAS #Achievment #Research #Summer #Internship https://t.co/WdF663EB5y                                                                                                        |                                |       |          |        |\n",
      "|                                                                      RT @midasIIITD: The last date for submitting a solution for the @midasIIITD internship task is 26th March midnight. We will not accept solu…                                                                      | Mon Mar 25 04:41:51 +0000 2019 |   0   |    3     |  None  |\n",
      "|                                                                                                  RT @midasIIITD: @RealAAAI @RatnRajiv Thanks, @RealAAAI for recognizing our efforts.                                                                                                   | Sun Mar 24 20:22:42 +0000 2019 |   0   |    2     |  None  |\n",
      "|                                                                                                                                                                                                                                                                                        |                                |       |          |        |\n",
      "|                                                                                                                 Congratulations, @midasIIITD students for winning Bes…                                                                                                                 |                                |       |          |        |\n",
      "|                                                                      RT @midasIIITD: The last date for submitting a solution for the @midasIIITD internship task is 26th March midnight. We will not accept solu…                                                                      | Sun Mar 24 18:55:22 +0000 2019 |   0   |    3     |  None  |\n",
      "|                                                                      RT @midasIIITD: The last date for submitting a solution for the @midasIIITD internship task is 26th March midnight. We will not accept solu…                                                                      | Sun Mar 24 18:48:29 +0000 2019 |   0   |    3     |  None  |\n",
      "|                                                            The last date for submitting a solution for the @midasIIITD internship task is 26th March midnight. We will not accept solutions submitted after the deadline.                                                              | Sun Mar 24 18:44:01 +0000 2019 |   8   |    3     |  None  |\n",
      "|                                                                                               Thus, if you have not submitted your solution yet then kindly do so before the deadline.                                                                                                 |                                |       |          |        |\n",
      "|                                                                                                                             #Summer #Research #Internship                                                                                                                              |                                |       |          |        |\n",
      "|                                                                      RT @IIITDelhi: @IIITDelhi invites application from Foreign Nationals/PIOs/NRIs/OCIs for admission to its https://t.co/u6kIuhIrGM and https:…                                                                      | Sun Mar 24 18:26:02 +0000 2019 |   0   |    4     |  None  |\n",
      "|                                                                      RT @IEEEBigMM19: Distinguished researchers Dr. Rajiv Ratn Shah @RatnRajiv (@IIITDelhi , @midasIIITD ), Dr. Jianquan Liu (NEC Japan) and Dr.…                                                                      | Sun Mar 24 13:30:49 +0000 2019 |   0   |    3     |  None  |\n",
      "|                                                                                                           #IEEEBigMM19 #Singapore workshop proposal. https://t.co/5FZ31qSYZf                                                                                                           | Sun Mar 24 11:35:21 +0000 2019 |   2   |    1     |  None  |\n",
      "|                                                                                                        One more week is left to submit the workshop proposal to @IEEEBigMM19.                                                                                                          | Sun Mar 24 11:34:27 +0000 2019 |   4   |    0     |  None  |\n",
      "|                                                                      Looking forward to your submission. For any query, contact workshop co-chair Dr. Chiranjoy Chattopadhyay @cchatto or TPC co-chair @RatnRajiv                                                                      |                                |       |          |        |\n",
      "|                                                                      RT @IEEEBigMM19: We are honored to have Dr. Chang Wen Chen (Chinese University Hong Kong @CUHKofficial ) and Dr. Roger Zimmermann (National…                                                                      | Sun Mar 24 06:23:37 +0000 2019 |   0   |    5     |  None  |\n",
      "|                                                                      RT @IEEEBigMM19: Distinguished researchers Dr. Rajiv Ratn Shah @RatnRajiv (@IIITDelhi , @midasIIITD ), Dr. Jianquan Liu (NEC Japan) and Dr.…                                                                      | Sun Mar 24 06:23:14 +0000 2019 |   0   |    3     |  None  |\n",
      "|                                                                      RT @IEEEBigMM19: Distinguished researchers Dr. Rajiv Ratn Shah @RatnRajiv (@IIITDelhi , @midasIIITD ), Dr. Jianquan Liu (NEC Japan) and Dr.…                                                                      | Sun Mar 24 06:18:37 +0000 2019 |   0   |    3     |  None  |\n",
      "|                                    Distinguished researchers Dr. Rajiv Ratn Shah @RatnRajiv (@IIITDelhi , @midasIIITD ), Dr. Jianquan Liu (NEC Japan) and Dr. Vivek Singh (Rutgers University @RutgersU ) will be our technical program co-chairs.                                     | Sun Mar 24 05:58:27 +0000 2019 |   13  |    3     |  None  |\n",
      "|                                                                                                                    @IEEEBigMM19 is also available on Facebook now.                                                                                                                     | Wed Mar 20 08:19:24 +0000 2019 |   1   |    1     |  None  |\n",
      "|                                                                                                      LIKE its Facebook page https://t.co/B3Q0zmmzXb  to get the regular updates.                                                                                                       |                                |       |          |        |\n",
      "|                                                                                                                     Check more details at https://t.co/w9ZymoPisk                                                                                                                      |                                |       |          |        |\n",
      "|                                                                                                                                                                                                                                                                                        |                                |       |          |        |\n",
      "|                                                                                                                       #IEEE #BigMM19 #Big #Multimedia #Singapore                                                                                                                       |                                |       |          |        |\n",
      "|                                                                                                     RT @IEEEBigMM19: BigMM 2019 : IEEE BigMM 2019 – Call for Workshop Proposals                                                                                                        | Wed Mar 20 02:40:07 +0000 2019 |   0   |    5     |  None  |\n",
      "|                                                                                                                                                                                                                                                                                        |                                |       |          |        |\n",
      "|                                                                                                                              https://t.co/I4vqf8FE6K …                                                                                                                                 |                                |       |          |        |\n",
      "|                                                                                                                           When: Sep 11, 2019 - Sep 13, 201…                                                                                                                            |                                |       |          |        |\n",
      "|                                                                                                                            @aggarwal_kartik @midasIIITD Yes                                                                                                                            | Tue Mar 19 17:41:54 +0000 2019 |   0   |    0     |  None  |\n",
      "|                                                                    @Hitkul_  @midasIIITD  Are we allowed to use libraries for twitter api such as Tweepy or Twitter for task 1 (Python) of MIDAS Summer Internship?                                                                    | Tue Mar 19 08:48:42 +0000 2019 |   0   |    0     |  None  |\n",
      "|                                                                      RT @midasIIITD: Congratulations @midasIIITD team, Rohan, Pradyumn, Ramit, @debanjanbhucs, @MADAIguy and @RatnRajiv for getting their paper…                                                                       | Mon Mar 18 04:43:17 +0000 2019 |   0   |    4     |  None  |\n",
      "|                                                                                                               BigMM 2019 : IEEE BigMM 2019 – Call for Workshop Proposals                                                                                                               | Mon Mar 18 02:27:47 +0000 2019 |   6   |    3     |  None  |\n",
      "|                                                                                                                                                                                                                                                                                        |                                |       |          |        |\n",
      "|                                                                                                                                https://t.co/oUq2G0UgKN                                                                                                                                 |                                |       |          |        |\n",
      "|                                                                                                                                                                                                                                                                                        |                                |       |          |        |\n",
      "|                                                                                                                           When: Sep 11, 2019 - Sep 13, 2019                                                                                                                            |                                |       |          |        |\n",
      "|                                                                                                                                    Where: Singapore                                                                                                                                    |                                |       |          |        |\n",
      "|                                                                                                                            Submission Deadline: Apr 1, 2019                                                                                                                            |                                |       |          |        |\n",
      "|                                                                                                                             Notification Due: Apr 10, 2019                                                                                                                             |                                |       |          |        |\n",
      "|                                                                                                                                                                                                                                                                                        |                                |       |          |        |\n",
      "|                                                                                                                #IEEE #BigMM #Workshop #Proposal #Singapore #Multimedia                                                                                                                 |                                |       |          |        |\n",
      "|                                                                    @midasIIITD Is it an internship selection process, I really wonder, our education system is getting worst day by day. Race, race and only race.                                                                     | Sun Mar 17 17:24:27 +0000 2019 |   0   |    0     |  None  |\n",
      "|                                                                      RT @midasIIITD: Congratulations @midasIIITD team, Rohan, Pradyumn, Ramit, @debanjanbhucs, @MADAIguy and @RatnRajiv for getting their paper…                                                                       | Sun Mar 17 16:33:58 +0000 2019 |   0   |    4     |  None  |\n",
      "|                                                                      RT @midasIIITD: Congratulations @midasIIITD team, Rohan, Pradyumn, Ramit, @debanjanbhucs, @MADAIguy and @RatnRajiv for getting their paper…                                                                       | Sun Mar 17 14:44:50 +0000 2019 |   0   |    4     |  None  |\n",
      "|                                                                      RT @midasIIITD: Congratulations @midasIIITD team, Rohan, Pradyumn, Ramit, @debanjanbhucs, @MADAIguy and @RatnRajiv for getting their paper…                                                                       | Sun Mar 17 14:24:13 +0000 2019 |   0   |    4     |  None  |\n",
      "|   Congratulations @midasIIITD team, Rohan, Pradyumn, Ramit, @debanjanbhucs, @MADAIguy and @RatnRajiv for getting their paper titled, \"SNAP-BATNET: Cascading Author Profiling and Social Network Graphs for Suicide Ideation Detection on Social Media\", accepted at @NAACLHLT SRW.    | Sun Mar 17 14:22:04 +0000 2019 |   15  |    4     |  None  |\n",
      "|                                                                                   We have emailed the task details to all shortlisted candidates for @midasIIITD internship. Kindly check the same.                                                                                    | Sat Mar 16 14:06:56 +0000 2019 |   7   |    0     |  None  |\n",
      "|                                                                                                                                                                                                                                                                                        |                                |       |          |        |\n",
      "|                                                                              If you are one of the shortlisted candidates and have not received the email then check your SPAM first before approaching.                                                                               |                                |       |          |        |\n",
      "|                                                                                                                                                                                                                                                                                        |                                |       |          |        |\n",
      "|                                                                                                                          #MIDAS #Summer #Research #Internship                                                                                                                          |                                |       |          |        |\n",
      "|                                                                             RT @midasIIITD: Awesome members of our @midasIIITD team who are working on Humonics projects. Great to have you on our team.                                                                               | Sat Mar 16 11:41:09 +0000 2019 |   0   |    4     |  None  |\n",
      "|                                                                                                                                                                                                                                                                                        |                                |       |          |        |\n",
      "|                                                                                                                                     #team #resea…                                                                                                                                      |                                |       |          |        |\n",
      "|                                                                      RT @midasIIITD: We will be releasing a very interesting task to shortlisted candidates for the internship at @midasIIITD today. You will be…                                                                      | Sat Mar 16 11:24:22 +0000 2019 |   0   |    2     |  None  |\n",
      "|                                                                                                            RT @midasIIITD: IEEE BigMM 2019 - Call for Workshop Proposals.                                                                                                              | Sat Mar 16 09:20:54 +0000 2019 |   0   |    1     |  None  |\n",
      "|                                                                                                                                                                                                                                                                                        |                                |       |          |        |\n",
      "|                                                                                                         Contact @midasIIITD @RatnRajiv @debanjanbhucs if you have any query.                                                                                                           |                                |       |          |        |\n",
      "|                                                                                                                                                                                                                                                                                        |                                |       |          |        |\n",
      "|                                                                                                                                          Dea…                                                                                                                                          |                                |       |          |        |\n",
      "|                                                                                                                    IEEE BigMM 2019 - Call for Workshop Proposals.                                                                                                                      | Sat Mar 16 09:20:29 +0000 2019 |   1   |    1     |  None  |\n",
      "|                                                                                                                                                                                                                                                                                        |                                |       |          |        |\n",
      "|                                                                                                         Contact @midasIIITD @RatnRajiv @debanjanbhucs if you have any query.                                                                                                           |                                |       |          |        |\n",
      "|                                                                                                                                                                                                                                                                                        |                                |       |          |        |\n",
      "|                                                                                                                                      Deadlines:                                                                                                                                        |                                |       |          |        |\n",
      "|                                                                                                                             - Proposals due: April 1, 2019                                                                                                                             |                                |       |          |        |\n",
      "|                                                                                                                       - Acceptance notification: April 10, 2019                                                                                                                        |                                |       |          |        |\n",
      "|                                                                                                                                                                                                                                                                                        |                                |       |          |        |\n",
      "|                                                                                                                                  Further information:                                                                                                                                  |                                |       |          |        |\n",
      "|                                                                                                                           - Webpage: https://t.co/5XX5Wyxp5T                                                                                                                           |                                |       |          |        |\n",
      "|                                                                                                                                                                                                                                                                                        |                                |       |          |        |\n",
      "|                                                                                                                                     #IEEE #BigMM19                                                                                                                                     |                                |       |          |        |\n",
      "|                                                                      RT @midasIIITD: We will be releasing a very interesting task to shortlisted candidates for the internship at @midasIIITD today. You will be…                                                                      | Sat Mar 16 09:16:59 +0000 2019 |   0   |    2     |  None  |\n",
      "|                                                                                                                 @NilayShri Great. Proud to have you with @midasIIITD.                                                                                                                  | Sat Mar 16 09:16:10 +0000 2019 |   2   |    0     |  None  |\n",
      "|                                               Congratulations! Arijit, Ramit, @debanjanbhucs @RatnRajiv for your @NAACLHLT  @naacl SRW 2019 paper, \"Speak Up, Fight Back! Detection of Social Media Disclosures of Sexual Harassment\".                                                 | Sat Mar 16 09:14:58 +0000 2019 |   7   |    2     |  None  |\n",
      "|                                                                                                                                                                                                                                                                                        |                                |       |          |        |\n",
      "|                                                                                                                     Check more details at https://t.co/i6eAHg7gcN                                                                                                                      |                                |       |          |        |\n",
      "|                                                                                                                                                                                                                                                                                        |                                |       |          |        |\n",
      "|                                                                                                                        #MeToo #Student #Research  #Paper #NAACL                                                                                                                        |                                |       |          |        |\n",
      "| We will be releasing a very interesting task to shortlisted candidates for the internship at @midasIIITD today. You will be having 10 days to solve the same. You will get a detailed email on the task and submission instruction today. Looking forward to your out of box solution. | Sat Mar 16 05:13:14 +0000 2019 |   7   |    2     |  None  |\n",
      "+----------------------------------------------------------------------------------------------------------------------------------------------------------------------------------------------------------------------------------------------------------------------------------------+--------------------------------+-------+----------+--------+\n"
     ]
    }
   ],
   "source": [
    "##Using prettytable library to plot table in a friendly way \n",
    "\n",
    "from prettytable import PrettyTable\n",
    "t = PrettyTable(['Text', 'Created_At', 'Likes', 'Retweets','Images'])\n",
    "for i in range(len(data['statuses'])):\n",
    "    text       = data['statuses'][i]['full_text']\n",
    "    created_at = data['statuses'][i]['created_at']\n",
    "    likes      = data['statuses'][i]['favorite_count']\n",
    "    retweet    = data['statuses'][i]['retweet_count']\n",
    "    \n",
    "    t.add_row([text,created_at, likes, retweet ,image_data[i]])\n",
    "print(t)"
   ]
  },
  {
   "cell_type": "code",
   "execution_count": null,
   "metadata": {},
   "outputs": [],
   "source": []
  },
  {
   "cell_type": "code",
   "execution_count": null,
   "metadata": {},
   "outputs": [],
   "source": []
  },
  {
   "cell_type": "code",
   "execution_count": null,
   "metadata": {},
   "outputs": [],
   "source": []
  }
 ],
 "metadata": {
  "kernelspec": {
   "display_name": "Python 3",
   "language": "python",
   "name": "python3"
  },
  "language_info": {
   "codemirror_mode": {
    "name": "ipython",
    "version": 3
   },
   "file_extension": ".py",
   "mimetype": "text/x-python",
   "name": "python",
   "nbconvert_exporter": "python",
   "pygments_lexer": "ipython3",
   "version": "3.6.7"
  }
 },
 "nbformat": 4,
 "nbformat_minor": 2
}
